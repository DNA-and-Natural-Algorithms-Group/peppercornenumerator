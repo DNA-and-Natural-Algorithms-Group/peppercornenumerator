{
 "cells": [
  {
   "cell_type": "code",
   "execution_count": null,
   "metadata": {},
   "outputs": [],
   "source": [
    "import numpy as np\n",
    "from pandas import DataFrame\n",
    "from yin2008 import data; y08 = data()\n"
   ]
  },
  {
   "cell_type": "markdown",
   "metadata": {},
   "source": [
    "# Generate the data"
   ]
  },
  {
   "cell_type": "code",
   "execution_count": null,
   "metadata": {},
   "outputs": [],
   "source": [
    "%%timeit\n",
    "y08 = data()\n",
    "for fig in y08:\n",
    "    fig.eval(verbose = 0, enumprofile = True)"
   ]
  },
  {
   "cell_type": "code",
   "execution_count": null,
   "metadata": {},
   "outputs": [],
   "source": [
    "Table1 = DataFrame()\n",
    "for fig in y08:\n",
    "    display(fig.pepperargs['default'])\n",
    "    fig.eval('default', verbose = 1, cmpfig=True)\n",
    "    for df in fig.get_dataframes():\n",
    "        df['name'] = fig.name\n",
    "        #display(df)\n",
    "        Table1 = Table1.append(df)"
   ]
  },
  {
   "cell_type": "code",
   "execution_count": null,
   "metadata": {},
   "outputs": [],
   "source": [
    "import matplotlib.pyplot as plt\n",
    "from numpy import log10\n",
    "import seaborn as sns\n",
    "sns.set(style=\"darkgrid\")\n",
    "\n",
    "tmpfig = Table1.copy()\n",
    "tmpfig['Time (experiment)'] = log10(tmpfig['Time (experiment)'])\n",
    "tmpfig['Time (simulation)'] = log10(tmpfig['Time (simulation)'])\n",
    "tmpfig = tmpfig.loc[tmpfig['Semantics'].isin(['default'])]\n",
    "#display(tmpfig)\n",
    "\n",
    "sns.lmplot(x = \"Time (experiment)\", \n",
    "           y = \"Time (simulation)\", \n",
    "           hue = \"Metric\", \n",
    "           fit_reg = False,\n",
    "           data = tmpfig)\n",
    "\n",
    "(mi, ma)=(1, 4)\n",
    "plt.plot([mi, ma], [mi, ma], linewidth=1, color='white',zorder=0)\n",
    "#plt.gcf().set_size_inches(3.5,2.5)\n"
   ]
  },
  {
   "cell_type": "code",
   "execution_count": null,
   "metadata": {},
   "outputs": [],
   "source": [
    "# Get Data from File\n",
    "F3 = y08[0]\n",
    "nxy = np.loadtxt(F3.cmpfig['default'], skiprows=1)\n",
    "\n",
    "print(F3.cmpfig['default'])\n",
    "\n",
    "time = nxy[:,0] / 60\n",
    "ys = nxy[:,1:]\n",
    "legend = ['20 nM', '6 nM', '2 nM', '1 nM', '0.6 nM', '0.4 nM', '0.2 nM', '0.1 nM', '0.06 nM', '0.02 nM', '0.01 nM']#, '0 nM']\n",
    "legend = list(map(lambda x: '{}{}'.format('I = ', x), legend))\n",
    "\n",
    "assert ys.shape[1] == len(legend)\n",
    "\n",
    "# Customize plot using Yin 2008 color scheme, etc.\n",
    "mycolors = ['#882486', \n",
    "            '#ffbb11', \n",
    "            '#ea0081', \n",
    "            '#eb1c22',\n",
    "            '#f68a1d',\n",
    "            '#0faa44', \n",
    "            '#87398e', \n",
    "            '#2b2d89',\n",
    "            '#016667',\n",
    "            '#027ac5',\n",
    "            '#eb125b']\n",
    "            #'#211e1f']\n",
    "\n",
    "plt.figure(figsize=(3.5,2.5))\n",
    "plt.gca().set_prop_cycle(color=mycolors)\n",
    "#sns.set(rc={'figure.figsize':(3.5,2.5)})\n",
    "\n",
    "#plt.gca().invert_yaxis()\n",
    "\n",
    "# Plot the data\n",
    "plt.plot(time, ys)\n",
    "\n",
    "plt.xlim(-0.5,20.5)\n",
    "plt.xticks(np.arange(0, 21, step=5))\n",
    "\n",
    "plt.ylim(21,-1)\n",
    "plt.yticks(np.arange(0, 21, step=5))\n",
    "\n",
    "plt.legend(legend, ncol=1, loc='center right', fontsize=7);\n",
    "plt.gca().set_xlabel('Time [min]', fontsize=10)\n",
    "plt.gca().set_ylabel('Concentration A [nM]', fontsize=10)\n",
    "plt.gca().axhline(y=10, linewidth=1, color='black', linestyle='--')\n",
    "\n",
    "#plt.savefig('yinF3.pdf', bbox_inches='tight')\n",
    "#plt.savefig('yinF3.svg', bbox_inches='tight')\n"
   ]
  },
  {
   "cell_type": "code",
   "execution_count": null,
   "metadata": {},
   "outputs": [],
   "source": []
  }
 ],
 "metadata": {
  "kernelspec": {
   "display_name": "Python 3",
   "language": "python",
   "name": "python3"
  },
  "language_info": {
   "codemirror_mode": {
    "name": "ipython",
    "version": 3
   },
   "file_extension": ".py",
   "mimetype": "text/x-python",
   "name": "python",
   "nbconvert_exporter": "python",
   "pygments_lexer": "ipython3",
   "version": "3.7.7"
  }
 },
 "nbformat": 4,
 "nbformat_minor": 4
}
