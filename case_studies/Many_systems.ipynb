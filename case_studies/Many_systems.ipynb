{
 "cells": [
  {
   "cell_type": "markdown",
   "metadata": {
    "slideshow": {
     "slide_type": "slide"
    }
   },
   "source": [
    "# System Analysis"
   ]
  },
  {
   "cell_type": "markdown",
   "metadata": {
    "slideshow": {
     "slide_type": "skip"
    }
   },
   "source": [
    "# Initialization"
   ]
  },
  {
   "cell_type": "code",
   "execution_count": null,
   "metadata": {
    "slideshow": {
     "slide_type": "skip"
    }
   },
   "outputs": [],
   "source": [
    "# Helper function to calculate Euclidean distance\n",
    "import pandas as pd\n",
    "from numpy import log10, sqrt\n",
    "\n",
    "def euclid(x, y, df, take_log=False):\n",
    "    if take_log:\n",
    "        return sqrt(sum((log10(df[x])-log10(df[y]))**2))\n",
    "    else:\n",
    "        return sqrt(sum((df[x]-df[y])**2))\n",
    "def sema(vect, fig):\n",
    "    #semantics=', '.join('{}={}'.format(x,y) for (x,y) in fig.pepperargs['default'].items() if x != 'conc')\n",
    "    nv = []\n",
    "    for line in vect:\n",
    "        v = []\n",
    "        for (x,y) in fig.pepperargs[line].items():\n",
    "            if x == 'conc': continue\n",
    "            if x == 'max_complex_size': continue\n",
    "            if x == 'max_complex_count': continue\n",
    "            if x == 'max_reaction_count': continue\n",
    "            if x == 'condensed': \n",
    "                z = x if y is True else 'detailed'\n",
    "            else:\n",
    "                z = '{}={}'.format(x,y)\n",
    "            v.append(z)\n",
    "        nv.append(', '.join(v))\n",
    "    return nv"
   ]
  },
  {
   "cell_type": "code",
   "execution_count": null,
   "metadata": {},
   "outputs": [],
   "source": [
    "from zhang2007 import data; z07 = data()\n",
    "from yin2008 import data; y08 = data()\n",
    "from zhang2009 import data; z09 = data()\n",
    "from zhang2010 import data; z10 = data()\n",
    "from zhang2011 import data; z11 = data()\n",
    "from kotani2017 import data; k17 = data()\n",
    "\n",
    "%who list"
   ]
  },
  {
   "cell_type": "code",
   "execution_count": null,
   "metadata": {},
   "outputs": [],
   "source": [
    "import matplotlib.pyplot as plt\n",
    "import seaborn as sns\n",
    "sns.set(style=\"darkgrid\")"
   ]
  },
  {
   "cell_type": "code",
   "execution_count": null,
   "metadata": {
    "slideshow": {
     "slide_type": "skip"
    }
   },
   "outputs": [],
   "source": [
    "# Main Figures:\n",
    "Table1 = pd.DataFrame()"
   ]
  },
  {
   "cell_type": "markdown",
   "metadata": {
    "slideshow": {
     "slide_type": "slide"
    }
   },
   "source": [
    "# Peppercorn estimates\n",
    "## Zhang 2007"
   ]
  },
  {
   "cell_type": "code",
   "execution_count": null,
   "metadata": {
    "slideshow": {
     "slide_type": "slide"
    }
   },
   "outputs": [],
   "source": [
    "# Generate Peppercorn estimates for every FigureData setup.\n",
    "for fig in z07:\n",
    "    print(fig.name)\n",
    "    #display(fig.pepperargs['default'])\n",
    "    fig.eval(verbose=0)\n",
    "    for df in fig.get_dataframes():\n",
    "        df['Name']=fig.name\n",
    "        df['Semantics']=sema(df['Semantics'], fig)\n",
    "        #display(df)\n",
    "        Table1 = Table1.append(df)\n"
   ]
  },
  {
   "cell_type": "code",
   "execution_count": null,
   "metadata": {
    "slideshow": {
     "slide_type": "slide"
    }
   },
   "outputs": [],
   "source": [
    "tmpfig = Table1\n",
    "tmpfig = tmpfig.loc[tmpfig['Name'].isin([fig.name for fig in z07])]\n",
    "#display(tmpfig)\n",
    "#g = sns.lmplot(x=\"Time (experiment)\", y=\"Time (simulation)\", hue='Name', data=tmpfig, fit_reg=False, markers=m, legend=True)\n",
    "# Plot data\n",
    "sns.relplot(x=\"Time (experiment)\", y=\"Time (simulation)\", col=\"Metric\", hue='Name', data=tmpfig)\n",
    "#plt.xscale('log')\n",
    "#plt.yscale('log')\n",
    "(mi, ma)=(1e0, 8e3)\n",
    "#plt.xlim(mi, ma)\n",
    "#plt.ylim(mi, ma)\n",
    "plt.plot([mi, ma], [mi, ma], linewidth=1, color='white',zorder=0)"
   ]
  },
  {
   "cell_type": "markdown",
   "metadata": {},
   "source": [
    "## Yin2008"
   ]
  },
  {
   "cell_type": "code",
   "execution_count": null,
   "metadata": {},
   "outputs": [],
   "source": [
    "# Generate Peppercorn estimates for every FigureData setup.\n",
    "for fig in y08:\n",
    "    print(fig.name)\n",
    "    display(fig.pepperargs['default'])\n",
    "    fig.eval(verbose = 0)\n",
    "    for df in fig.get_dataframes():\n",
    "        df['Name']=fig.name\n",
    "        df['Semantics']=sema(df['Semantics'], fig)\n",
    "        #display(df)\n",
    "        Table1 = Table1.append(df)"
   ]
  },
  {
   "cell_type": "code",
   "execution_count": null,
   "metadata": {},
   "outputs": [],
   "source": [
    "tmpfig = Table1\n",
    "tmpfig = tmpfig.loc[tmpfig['Name'].isin([fig.name for fig in y08])]\n",
    "display(tmpfig)\n",
    "\n",
    "sns.relplot(x=\"Time (experiment)\", y=\"Time (simulation)\", col = 'Metric', hue='Name', data=tmpfig)\n",
    "#plt.xscale('log')\n",
    "#plt.yscale('log')\n",
    "(mi, ma)=(1e0, 1.2e4)\n",
    "#plt.xlim(mi, ma)\n",
    "#plt.ylim(mi, ma)\n",
    "plt.plot([mi, ma], [mi, ma], linewidth=1, color='white',zorder=0)"
   ]
  },
  {
   "cell_type": "markdown",
   "metadata": {},
   "source": [
    "## Zhang 2009 "
   ]
  },
  {
   "cell_type": "code",
   "execution_count": null,
   "metadata": {},
   "outputs": [],
   "source": [
    "for fig in z09:\n",
    "    print(fig.name)\n",
    "    print(fig.pepperargs['default'])\n",
    "    fig.eval(cmpfig='hack')\n",
    "    for df in fig.get_dataframes():\n",
    "        df['Name']=fig.name\n",
    "        df['Semantics']=sema(df['Semantics'], fig)\n",
    "        dist = euclid('Time (experiment)', 'Time (simulation)', df, take_log=True)\n",
    "        print('{:s} -- Fitness: {:g}'.format(fig.name, dist)) \n",
    "        #display(df)\n",
    "        Table1 = Table1.append(df)\n",
    "        "
   ]
  },
  {
   "cell_type": "code",
   "execution_count": null,
   "metadata": {},
   "outputs": [],
   "source": [
    "tmpfig = Table1\n",
    "tmpfig = tmpfig.loc[tmpfig['Name'].isin([fig.name for fig in z09])]\n",
    "display(tmpfig)\n",
    "\n",
    "sns.relplot(x=\"Time (experiment)\", y=\"Time (simulation)\", col = 'Metric', hue='Name', data=tmpfig)\n",
    "#plt.xscale('log')\n",
    "#plt.yscale('log')\n",
    "(mi, ma)=(1e0, 2e4)\n",
    "#plt.xlim(mi, ma)\n",
    "#plt.ylim(mi, ma)\n",
    "plt.plot([mi, ma], [mi, ma], linewidth=1, color='white',zorder=0)"
   ]
  },
  {
   "cell_type": "markdown",
   "metadata": {},
   "source": [
    "## Zhang 2010"
   ]
  },
  {
   "cell_type": "code",
   "execution_count": null,
   "metadata": {},
   "outputs": [],
   "source": [
    "# Generate Peppercorn estimates for every FigureData setup.\n",
    "for fig in z10:\n",
    "    print(fig.name)\n",
    "    #display(fig.pepperargs['default'])\n",
    "    fig.eval(verbose = 1)\n",
    "    for df in fig.get_dataframes():\n",
    "        df['Name']=fig.name\n",
    "        df['Semantics']=sema(df['Semantics'], fig)\n",
    "        dist = euclid('Time (experiment)', 'Time (simulation)', df, take_log=True)\n",
    "        print('{:s} -- Fitness: {:g}'.format(fig.name, dist)) \n",
    "        #display(df)\n",
    "        Table1 = Table1.append(df)"
   ]
  },
  {
   "cell_type": "code",
   "execution_count": null,
   "metadata": {},
   "outputs": [],
   "source": [
    "tmpfig = Table1\n",
    "tmpfig = tmpfig.loc[tmpfig['Name'].isin([fig.name for fig in z10])]\n",
    "display(tmpfig)\n",
    "sns.relplot(x=\"Time (experiment)\", y=\"Time (simulation)\", col = 'Metric', hue='Name', data=tmpfig)\n",
    "#plt.xscale('log')\n",
    "#plt.yscale('log')\n",
    "(mi, ma)=(1e0, 4e4)\n",
    "#plt.xlim(mi, ma)\n",
    "#plt.ylim(mi, ma)\n",
    "plt.plot([mi, ma], [mi, ma], linewidth=1, color='white',zorder=0)"
   ]
  },
  {
   "cell_type": "markdown",
   "metadata": {},
   "source": [
    "# Zhang 2011"
   ]
  },
  {
   "cell_type": "code",
   "execution_count": null,
   "metadata": {},
   "outputs": [],
   "source": [
    "for fig in z11:\n",
    "    print(fig.name)\n",
    "    #print(fig.pepperargs['default'])\n",
    "    fig.eval(verbose=1)\n",
    "    for df in fig.get_dataframes():\n",
    "        df['Name']=fig.name\n",
    "        df['Semantics']=sema(df['Semantics'], fig)\n",
    "        dist = euclid('Time (experiment)', 'Time (simulation)', df, take_log=True)\n",
    "        print('{:s} -- Fitness: {:g}'.format(fig.name, dist)) \n",
    "        #display(df)\n",
    "        Table1 = Table1.append(df)"
   ]
  },
  {
   "cell_type": "code",
   "execution_count": null,
   "metadata": {},
   "outputs": [],
   "source": [
    "tmpfig = Table1\n",
    "tmpfig = tmpfig.loc[tmpfig['Name'].isin([fig.name for fig in z11])]\n",
    "#display(tmpfig)\n",
    "\n",
    "sns.relplot(x=\"Time (experiment)\", y=\"Time (simulation)\", col='Metric', hue='Name', data=tmpfig)\n",
    "\n",
    "#plt.xscale('log')\n",
    "#plt.yscale('log')\n",
    "(mi, ma)=(200, 1000)\n",
    "#plt.xlim(mi, ma)\n",
    "#plt.ylim(mi, ma)\n",
    "plt.plot([mi, ma], [mi, ma], linewidth=1, color='white',zorder=0)"
   ]
  },
  {
   "cell_type": "markdown",
   "metadata": {},
   "source": [
    "## Kotani & Hughes 2017"
   ]
  },
  {
   "cell_type": "code",
   "execution_count": null,
   "metadata": {},
   "outputs": [],
   "source": [
    "# Generate Peppercorn estimates for every FigureData setup.\n",
    "for fig in k17:\n",
    "    print(fig.name)\n",
    "    #display(fig.pepperargs['default'])\n",
    "    fig.eval(verbose = 1)\n",
    "    for df in fig.get_dataframes():\n",
    "        df['Name']=fig.name\n",
    "        df['Semantics']=sema(df['Semantics'], fig)\n",
    "        dist = euclid('Time (experiment)', 'Time (simulation)', df, take_log=True)\n",
    "        print('{:s} -- Fitness: {:g}'.format(fig.name, dist)) \n",
    "        #display(df)\n",
    "        Table1 = Table1.append(df)"
   ]
  },
  {
   "cell_type": "code",
   "execution_count": null,
   "metadata": {},
   "outputs": [],
   "source": [
    "tmpfig = Table1\n",
    "tmpfig = tmpfig.loc[tmpfig['Name'].isin([fig.name for fig in k17])]\n",
    "display(tmpfig)\n",
    "\n",
    "sns.relplot(x=\"Time (experiment)\", y=\"Time (simulation)\", hue='Name', col='Metric', data=tmpfig)\n",
    "#plt.xscale('log')\n",
    "#plt.yscale('log')\n",
    "(mi, ma)=(1e1, 1e5)\n",
    "#plt.xlim(mi, ma)\n",
    "#plt.ylim(mi, ma)\n",
    "plt.plot([mi, ma], [mi, ma], linewidth=1, color='white',zorder=0)"
   ]
  },
  {
   "cell_type": "markdown",
   "metadata": {},
   "source": [
    "# Everything"
   ]
  },
  {
   "cell_type": "code",
   "execution_count": null,
   "metadata": {},
   "outputs": [],
   "source": [
    "#display(Table1)\n",
    "Table1.to_latex('ManySystems.tex', index=False, float_format='{:.3g}'.format)\n",
    "tmpfig = Table1\n",
    "#tmpfig.reset_index(inplace=True, drop=True)\n",
    "#tmpfig = tmpfig.iloc[0:-1]\n",
    "#tmpfig = tmpfig.iloc[[4,5,6,7,28,29,30,31], :]\n",
    "#display(tmpfig)\n",
    "\n",
    "#sns.set_palette(\"husl\")\n",
    "#sns.set(rc={'figure.figsize':(4,4)})\n",
    "\n",
    "m = ['+'] * 3\n",
    "m += ['.']\n",
    "m += ['^'] * 3\n",
    "m += ['*'] * 4\n",
    "m += ['v']\n",
    "m += ['o'] * 3\n",
    "\n",
    "#g = sns.relplot(x=\"Time (experiment)\", y=\"Time (simulation)\", hue='Name', data=tmpfig)\n",
    "g = sns.lmplot(x = \"Time (experiment)\", y = \"Time (simulation)\", \n",
    "               col = 'Metric', hue = 'Name', sharey = True, col_order = ['completion-time', 'diagonal-crossing-time'],\n",
    "               data = tmpfig, markers = m, \n",
    "               fit_reg = False, legend = False)\n",
    "\n",
    "plt.xscale('log')\n",
    "plt.yscale('log')\n",
    "plt.legend(bbox_to_anchor=(1, -0.2), loc=1, borderaxespad=0.)#, fontsize = 10)\n",
    "#plt.legend(loc='upper left')\n",
    "\n",
    "#plt.xlim(1e3, 1e5)\n",
    "#plt.ylim(1e2, 1e6)\n",
    "mi, ma = 1e1, 1e5\n",
    "\n",
    "for ax in g.axes[0]:\n",
    "    ax.plot([mi, ma], [mi, ma], linewidth=3, color='white', zorder=0)\n",
    "\n",
    "g.axes[0][0].set_title('50%-completion time')\n",
    "g.axes[0][1].set_title('Diagonal-crossing time')\n",
    "\n",
    "#g.set_titles(row_template=\"{row_name}\", col_template=\"{col_name}\")\n",
    "\n",
    "\n",
    "g.set(xlabel='Experimental timepoint [s]')  \n",
    "g.set(ylabel='Peppercorn timepoint [s]')\n",
    "\n",
    "plt.savefig('all_systems.pdf', bbox_inches='tight')\n",
    "plt.savefig('all_systems.svg', bbox_inches='tight')"
   ]
  },
  {
   "cell_type": "code",
   "execution_count": null,
   "metadata": {},
   "outputs": [],
   "source": []
  }
 ],
 "metadata": {
  "kernelspec": {
   "display_name": "Python [conda env:py37]",
   "language": "python",
   "name": "conda-env-py37-py"
  },
  "language_info": {
   "codemirror_mode": {
    "name": "ipython",
    "version": 3
   },
   "file_extension": ".py",
   "mimetype": "text/x-python",
   "name": "python",
   "nbconvert_exporter": "python",
   "pygments_lexer": "ipython3",
   "version": "3.7.3"
  }
 },
 "nbformat": 4,
 "nbformat_minor": 2
}
