{
 "cells": [
  {
   "cell_type": "markdown",
   "metadata": {
    "slideshow": {
     "slide_type": "slide"
    }
   },
   "source": [
    "# System Analysis"
   ]
  },
  {
   "cell_type": "markdown",
   "metadata": {
    "slideshow": {
     "slide_type": "skip"
    }
   },
   "source": [
    "# Initialization"
   ]
  },
  {
   "cell_type": "code",
   "execution_count": null,
   "metadata": {
    "slideshow": {
     "slide_type": "skip"
    }
   },
   "outputs": [],
   "source": [
    "import pandas as pd\n",
    "from numpy import log10, sqrt"
   ]
  },
  {
   "cell_type": "code",
   "execution_count": null,
   "metadata": {},
   "outputs": [],
   "source": [
    "def sema(vect, fig):\n",
    "    \"\"\"Rewrite the semantics column into a more compact, human readable version.\n",
    "    \"\"\"\n",
    "    nv = []\n",
    "    for line in vect:\n",
    "        v = []\n",
    "        for (x,y) in fig.pepperargs[line].items():\n",
    "            if x == 'enumconc': continue\n",
    "            if x == 'max_complex_size': continue\n",
    "            if x == 'max_complex_count': continue\n",
    "            if x == 'max_reaction_count': continue\n",
    "            if x == 'condensed': \n",
    "                z = x if y is True else 'detailed'\n",
    "            else:\n",
    "                z = '{}={}'.format(x,y)\n",
    "            v.append(z)\n",
    "        nv.append(', '.join(v))\n",
    "    return nv"
   ]
  },
  {
   "cell_type": "code",
   "execution_count": null,
   "metadata": {},
   "outputs": [],
   "source": [
    "import matplotlib.pyplot as plt\n",
    "import seaborn as sns\n",
    "sns.set(style=\"darkgrid\")"
   ]
  },
  {
   "cell_type": "code",
   "execution_count": null,
   "metadata": {},
   "outputs": [],
   "source": [
    "from zhang2007 import data; z07 = data()\n",
    "from yin2008 import data; y08 = data()\n",
    "from zhang2009 import data; z09 = data()\n",
    "from zhang2010 import data; z10 = data()\n",
    "from zhang2011 import data; z11 = data()\n",
    "from kotani2017 import data; k17 = data()\n",
    "\n",
    "%who list"
   ]
  },
  {
   "cell_type": "code",
   "execution_count": null,
   "metadata": {},
   "outputs": [],
   "source": [
    "def fill_table_prf(data, verb = 0):\n",
    "    for fig in data:\n",
    "        #print(fig.name)\n",
    "        fig.eval(verbose = verb, enumprofile = True)\n",
    "\n",
    "def fill_table(data, verb = 0):\n",
    "    for fig in data:\n",
    "        print(fig.name)\n",
    "        display(fig.pepperargs['default'])\n",
    "        assert fig.pepperargs['default']['condensed'] == True\n",
    "        fig.eval('default', verbose = verb)\n",
    "        for df in fig.get_dataframes():\n",
    "            df['Name'] = fig.name\n",
    "            df['Semantics'] = sema(df['Semantics'], fig)\n",
    "            yield df"
   ]
  },
  {
   "cell_type": "markdown",
   "metadata": {
    "slideshow": {
     "slide_type": "slide"
    }
   },
   "source": [
    "# Peppercorn estimates"
   ]
  },
  {
   "cell_type": "code",
   "execution_count": null,
   "metadata": {
    "slideshow": {
     "slide_type": "slide"
    }
   },
   "outputs": [],
   "source": [
    "Table1 = pd.DataFrame()\n",
    "for x in fill_table(z07 + y08 + z09 + z10 + z11 + k17, verb = 0):\n",
    "    display(x)\n",
    "    Table1 = Table1.append(x)"
   ]
  },
  {
   "cell_type": "code",
   "execution_count": null,
   "metadata": {},
   "outputs": [],
   "source": [
    "%%timeit\n",
    "fill_table_prf(z07 + y08 + z09 + z10 + z11 + k17)"
   ]
  },
  {
   "cell_type": "markdown",
   "metadata": {},
   "source": [
    "# Everything"
   ]
  },
  {
   "cell_type": "code",
   "execution_count": null,
   "metadata": {},
   "outputs": [],
   "source": [
    "Table1.to_latex('ManySystems.tex', index=False, float_format='{:.3g}'.format)\n",
    "tmpfig = Table1\n",
    "#tmpfig.reset_index(inplace=True, drop=True)\n",
    "#tmpfig = tmpfig.iloc[0:-1]\n",
    "#tmpfig = tmpfig.iloc[[4,5,6,7,28,29,30,31], :]\n",
    "#display(tmpfig)\n",
    "\n",
    "if False: # Just look at them individually\n",
    "    #tmpfig = tmpfig.loc[tmpfig['Name'].isin([fig.name for fig in z07+z10])]\n",
    "    m = 'o'\n",
    "else:\n",
    "    m = ['+'] * 3\n",
    "    m += ['.']\n",
    "    m += ['^'] * 3\n",
    "    m += ['*'] * 4\n",
    "    m += ['v']\n",
    "    m += ['o'] * 3\n",
    "\n",
    "colors = sns.color_palette(\"Set1\", n_colors=8, desat=.5).as_hex()\n",
    "    \n",
    "g = sns.lmplot(x = \"Time (experiment)\", y = \"Time (simulation)\", \n",
    "               col = 'Metric', hue = 'Name', sharey = True, \n",
    "               col_order = ['completion-time', 'diagonal-crossing-time'],\n",
    "               data = tmpfig, markers = m, palette = colors,\n",
    "               fit_reg = False, legend = False)\n",
    "\n",
    "plt.xscale('log')\n",
    "plt.yscale('log')\n",
    "plt.legend(bbox_to_anchor=(1, -0.2), loc=1, borderaxespad=0.)#, fontsize = 10)\n",
    "\n",
    "mi, ma = 1e1, 1e5\n",
    "for ax in g.axes[0]:\n",
    "    ax.plot([mi, ma], [mi, ma], linewidth=3, color='white', zorder=0)\n",
    "\n",
    "g.axes[0][0].set_title('50%-completion time')\n",
    "g.axes[0][1].set_title('Diagonal-crossing time')\n",
    "\n",
    "g.set(xlabel='Experimental timepoint [s]')  \n",
    "g.axes[0][0].set(ylabel='Peppercorn timepoint [s]')\n",
    "\n",
    "plt.savefig('all_systems.pdf', bbox_inches='tight')\n",
    "plt.savefig('all_systems.svg', bbox_inches='tight')"
   ]
  },
  {
   "cell_type": "code",
   "execution_count": null,
   "metadata": {},
   "outputs": [],
   "source": []
  }
 ],
 "metadata": {
  "kernelspec": {
   "display_name": "Python [conda env:py37]",
   "language": "python",
   "name": "conda-env-py37-py"
  },
  "language_info": {
   "codemirror_mode": {
    "name": "ipython",
    "version": 3
   },
   "file_extension": ".py",
   "mimetype": "text/x-python",
   "name": "python",
   "nbconvert_exporter": "python",
   "pygments_lexer": "ipython3",
   "version": "3.7.3"
  }
 },
 "nbformat": 4,
 "nbformat_minor": 2
}
