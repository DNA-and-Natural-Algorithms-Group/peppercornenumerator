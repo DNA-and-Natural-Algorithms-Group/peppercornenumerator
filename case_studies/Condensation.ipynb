{
 "cells": [
  {
   "cell_type": "markdown",
   "metadata": {},
   "source": [
    "# Detailed vs Condensed"
   ]
  },
  {
   "cell_type": "code",
   "execution_count": null,
   "metadata": {},
   "outputs": [],
   "source": [
    "from dsdobjects import clear_memory\n",
    "from peppercornenumerator import enumerate_pil\n",
    "from subprocess import Popen, PIPE # simulations\n",
    "\n",
    "import pandas as pd # analysis\n",
    "import numpy as np\n",
    "import matplotlib.pyplot as plt\n",
    "import seaborn as sns\n",
    "sns.set(style=\"whitegrid\")"
   ]
  },
  {
   "cell_type": "code",
   "execution_count": null,
   "metadata": {},
   "outputs": [],
   "source": [
    "results = [] # A list of results => for dataframe"
   ]
  },
  {
   "cell_type": "code",
   "execution_count": null,
   "metadata": {},
   "outputs": [],
   "source": [
    "# DEBUGGING -- Current State\n",
    "#print(pil_condensed)\n",
    "#print(pil_detailed)\n",
    "#display(results)\n",
    "clear_memory()"
   ]
  },
  {
   "cell_type": "markdown",
   "metadata": {},
   "source": [
    "# Kotani Autocataliytic"
   ]
  },
  {
   "cell_type": "code",
   "execution_count": null,
   "metadata": {},
   "outputs": [],
   "source": [
    "Kotani2017_F4_input = \"\"\"\n",
    "length a   = 22\n",
    "length b   = 22\n",
    "length o   = 22\n",
    "length c1  = 11\n",
    "length c2  = 11\n",
    "length t1  = 6\n",
    "length t2  = 6\n",
    "length t3  = 10\n",
    "length T2  = 2\n",
    "length x   = 2\n",
    "length y   = 2\n",
    "\n",
    "length d1s = 16\n",
    "length d1r = 2\n",
    "length d2  = 6\n",
    "\n",
    "S5 = o( b*( T2 a + c2 ) a( t2( y + ) ) c2*( c1*( t1* x* + ) ) ) d2 t3 @i 1e-7 M\n",
    "S6 = y* t2* a*( b*( c2*( + x t1 c1 ) ) o*( + d1s T2 ) c2*( c1*( t1*( + x ) ) ) ) @i 1e-7 M\n",
    "\n",
    "C1 = x t1 c1 c2 a @i 1e-9 M\n",
    "\n",
    "P1  = t2* a*( c2*( c1*( t1*( x*( + ) ) ) ) )           @i 0 M\n",
    "P2 = c2( b( a( t2( y( + ) ) ) ) )                     @i 0 M\n",
    "\n",
    "I5  = c1 c2 o*( d2 t3 + ) b*( T2 a + c2 ) a t2 y        @i 0 M\n",
    "I6 = c1( c2( o*( d2 t3 + ) b*( T2 a + c2 ) a( t2( y( + ) ) ) b*( c2*( + x t1 c1 ) ) o*( + d1s T2 ) ) ) t1* @i 0 M\n",
    "P10 = x( t1( c1( c2( b( o*( + ) ) T2 a( + t2* ) ) ) ) ) @i 0 M\n",
    "\n",
    "P8 = x t1 c1 c2 b( o*( + ) ) T2 a                     @i 0 M\n",
    "P9 = d1s T2 o( c2*( c1*( t1* + ) ) ) d2 t3            @i 0 M\n",
    "\n",
    "R = d1r( d1s( d2( + t3* ) ) ) @i 1e-7 M\n",
    "D = d1r d1s d2                                              @i 0 M\n",
    "RW = d1s( T2 o( c2*( c1*( t1* + ) ) ) d2( t3( + ) ) ) d1r*  @i 0 M\n",
    "\"\"\""
   ]
  },
  {
   "cell_type": "code",
   "execution_count": null,
   "metadata": {},
   "outputs": [],
   "source": [
    "enum, pil_condensed = enumerate_pil(Kotani2017_F4_input, detailed = False, condensed = True, max_complex_size = 20, release_cutoff = 8, enumconc = 'nM')\n",
    "clear_memory()"
   ]
  },
  {
   "cell_type": "code",
   "execution_count": null,
   "metadata": {},
   "outputs": [],
   "source": [
    "enum, pil_detailed  = enumerate_pil(Kotani2017_F4_input, detailed = True, condensed = False, max_complex_size = 20, release_cutoff = 8, enumconc = 'nM')\n",
    "clear_memory()"
   ]
  },
  {
   "cell_type": "code",
   "execution_count": null,
   "metadata": {},
   "outputs": [],
   "source": [
    "def kotani_t_half(pilstring, conc):\n",
    "    command = f'pilsimulator --nxy --p0 C1={conc} S5={conc} S6={conc} R={conc} --t0 1 --t8 1e7 --t-log 1000 --pyplot-labels C1 S5 S6 R D'\n",
    "    #print(command)\n",
    "    process = Popen(command.split(), stdin = PIPE, stdout = PIPE)\n",
    "    simu, err = process.communicate(pilstring.encode())\n",
    "    if process.returncode:\n",
    "        print('something went wrong.')\n",
    "\n",
    "    for line in simu.decode().split('\\n'):\n",
    "        if not line:\n",
    "            continue\n",
    "        if line[0] == '#':\n",
    "            continue\n",
    "        [t, C1, S5, S6, R, D] = line.split()[:6]\n",
    "        #print(t, C1, S5, S6, R, D)\n",
    "        if float(D) > 0.5 *  conc:\n",
    "            return t, D\n",
    "\n",
    "for c in np.logspace(np.log10(1e-2), np.log10(25), num = 30):\n",
    "    dt, dD = kotani_t_half(pil_detailed, c)\n",
    "    #print('detailed', c, float(dt), float(dD))\n",
    "    ct, cD = kotani_t_half(pil_condensed, c)\n",
    "    #print('condensed', c, float(ct), float(cD))\n",
    "    print('ratio', c, float(dt)/float(ct), float(dD)/float(cD))\n",
    "    results.append(['Kotani (2017)', c, float(dt)/float(ct), float(dD)/float(cD)])\n"
   ]
  },
  {
   "cell_type": "markdown",
   "metadata": {},
   "source": [
    "# Zhang 3-way branch migration"
   ]
  },
  {
   "cell_type": "code",
   "execution_count": null,
   "metadata": {},
   "outputs": [],
   "source": [
    "zhang_th78 = \"\"\"\n",
    "# Experiments Zhang 2009, 3-way strand displacement\n",
    "length a = 16\n",
    "length b1 = 6 \n",
    "length b2 = 7 \n",
    "length b3 = 7\n",
    "length c = 5  # c\n",
    "length d = 10 # d\n",
    "\n",
    "# Chopped sequence for reporter reaction.\n",
    "sup-sequence b = b1 b2 b3\n",
    "\n",
    "# Inputs\n",
    "X = b c \n",
    "S = a b( + d* c* )\n",
    "R = a( b1( + b2* ) )\n",
    "\n",
    "# Outputs\n",
    "L = b( c( + d* ) )        @initial 0 M\n",
    "Y = a b                   @initial 0 M\n",
    "F = a b1                  @initial 0 M\n",
    "W = a( b1( b2( b3 + ) ) ) @initial 0 M\n",
    "\n",
    "# Intermediates\n",
    "i1 = a b( + b c( + d* ) ) @initial 0 M\n",
    "\n",
    "# Expected detailed reactions:\n",
    "# X + S <=> i1\n",
    "# i1 -> L + Y\n",
    "# Target condensed reactions:\n",
    "# X + S -> L + Y\n",
    "# R + Y -> F + W\n",
    "\"\"\""
   ]
  },
  {
   "cell_type": "code",
   "execution_count": null,
   "metadata": {},
   "outputs": [],
   "source": [
    "enum, pil_condensed = enumerate_pil(zhang_th78, detailed = False, condensed = True, max_complex_size = 20, release_cutoff = 8, enumconc = 'nM')\n",
    "clear_memory()"
   ]
  },
  {
   "cell_type": "code",
   "execution_count": null,
   "metadata": {},
   "outputs": [],
   "source": [
    "enum, pil_detailed  = enumerate_pil(zhang_th78, detailed = True, condensed = False, max_complex_size = 20, release_cutoff = 8, enumconc = 'nM')\n",
    "clear_memory()"
   ]
  },
  {
   "cell_type": "code",
   "execution_count": null,
   "metadata": {},
   "outputs": [],
   "source": [
    "def zhang_t_half(pilstring, conc):\n",
    "    command = f'pilsimulator --nxy --p0 X={conc} S={conc} R={conc} --t0 0.1 --t8 1e7 --t-log 10000 --pyplot-labels X S R F'\n",
    "    #print(command)\n",
    "    process = Popen(command.split(), stdin = PIPE, stdout = PIPE)\n",
    "    simu, err = process.communicate(pilstring.encode())\n",
    "    if process.returncode:\n",
    "        print('something went wrong.')\n",
    "\n",
    "    for line in simu.decode().split('\\n'):\n",
    "        if not line:\n",
    "            continue\n",
    "        if line[0] == '#':\n",
    "            continue\n",
    "        [t, X, S, R, F] = line.split()[:5]\n",
    "        #print(t, X, S, R, F)\n",
    "        if float(F) > 0.5 *  conc:\n",
    "            return t, F\n",
    "\n",
    "for c in np.logspace(np.log10(1e-2), np.log10(1e5), num = 30):\n",
    "    dt, dD = zhang_t_half(pil_detailed, c)\n",
    "    #print('detailed', c, float(dt), float(dD))\n",
    "    ct, cD = zhang_t_half(pil_condensed, c)\n",
    "    #print('condensed', c, float(ct), float(cD))\n",
    "    print('ratio', c, float(dt)/float(ct), float(dD)/float(cD))\n",
    "    results.append(['Zhang (2009) (5,10)', c, float(dt)/float(ct), float(dD)/float(cD)])"
   ]
  },
  {
   "cell_type": "code",
   "execution_count": null,
   "metadata": {},
   "outputs": [],
   "source": [
    "df = pd.DataFrame(results, columns=['system', 'initial-concentration', 'T50', '[Dye]'])\n",
    "display(df)"
   ]
  },
  {
   "cell_type": "code",
   "execution_count": null,
   "metadata": {},
   "outputs": [],
   "source": [
    "df['T50']\n",
    "g = sns.lmplot(x=\"initial-concentration\", y=\"T50\", hue=\"system\", data=df, fit_reg = False, logistic=False, truncate=False)\n",
    "plt.gcf().set_size_inches(8.5,4)\n",
    "\n",
    "#g.set_titles(row_template = '{row_name}', col_template = '{col_name}')\n",
    "plt.gca().set_xlabel('Initial concentration [nM]', fontsize=10)\n",
    "plt.gca().set_ylabel('$t_{50}$ detailed / $t_{50}$ condensed', fontsize=10)\n",
    "#plt.gca().axhline(y=5, linewidth=1, color='black', linestyle='--')\n",
    "\n",
    "plt.xscale('log')\n",
    "plt.xlim((0.01, 1.1e4))\n",
    "plt.ylim((0, 8))\n",
    "\n",
    "#sns.lineplot(df, palette=\"tab10\", hue = 'semantics', linewidth=2.5)\n",
    "#plt.savefig('condensation.pdf', bbox_inches='tight')"
   ]
  }
 ],
 "metadata": {
  "kernelspec": {
   "display_name": "Python [conda env:py37]",
   "language": "python",
   "name": "conda-env-py37-py"
  },
  "language_info": {
   "codemirror_mode": {
    "name": "ipython",
    "version": 3
   },
   "file_extension": ".py",
   "mimetype": "text/x-python",
   "name": "python",
   "nbconvert_exporter": "python",
   "pygments_lexer": "ipython3",
   "version": "3.7.3"
  }
 },
 "nbformat": 4,
 "nbformat_minor": 4
}
