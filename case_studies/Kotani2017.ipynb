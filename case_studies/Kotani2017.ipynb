{
 "cells": [
  {
   "cell_type": "markdown",
   "metadata": {},
   "source": [
    "# Kotani & Hughes 2017 -- Autoatalytic system"
   ]
  },
  {
   "cell_type": "code",
   "execution_count": null,
   "metadata": {},
   "outputs": [],
   "source": [
    "import numpy as np\n",
    "import pandas as pd\n",
    "pd.set_option('display.max_colwidth', -1)"
   ]
  },
  {
   "cell_type": "code",
   "execution_count": null,
   "metadata": {},
   "outputs": [],
   "source": [
    "def sema(vect, fig):\n",
    "    \"\"\"Rewrite the semantics column into a more compact, human readable version.\n",
    "    \"\"\"\n",
    "    nv = []\n",
    "    for line in vect:\n",
    "        v = []\n",
    "        for (x,y) in fig.pepperargs[line].items():\n",
    "            if x == 'enumconc': continue\n",
    "            if x == 'max_complex_size': continue\n",
    "            if x == 'max_complex_count': continue\n",
    "            if x == 'max_reaction_count': continue\n",
    "            if x == 'condensed': \n",
    "                z = x if y is True else 'detailed'\n",
    "            else:\n",
    "                z = '{}={}'.format(x,y)\n",
    "            v.append(z)\n",
    "        nv.append(', '.join(v))\n",
    "    return nv"
   ]
  },
  {
   "cell_type": "code",
   "execution_count": null,
   "metadata": {},
   "outputs": [],
   "source": [
    "from kotani2017 import data; k17 = data()\n",
    "\n",
    "k17 = [x for x in k17 if 'Fig. 4' in x.name] # Filter to use only Figure 4.\n",
    "assert len(k17) == 1\n",
    "[F4] = k17"
   ]
  },
  {
   "cell_type": "markdown",
   "metadata": {},
   "source": [
    "### Time detailed vs condensed runs (that takes a while)"
   ]
  },
  {
   "cell_type": "code",
   "execution_count": null,
   "metadata": {},
   "outputs": [],
   "source": [
    "%%timeit\n",
    "verb = 0\n",
    "for fig in k17:\n",
    "    assert fig.name == 'Kotani & Hughes (2017) Fig. 4 - Autocatalytic DSD system with 4-way branch migration (varying autocatalyst)'\n",
    "    fig.pepperargs['#1-detailed']  = {'condensed': False, 'enumconc': 'nM', 'release_cutoff': 8, 'max_complex_size': 10}\n",
    "    fig.pepperargs['#3-detailed']  = {'condensed': False, 'enumconc': 'nM', 'k_slow': 1e-4, 'max_complex_size': 10}\n",
    "    fig.pepperargs['#4-detailed']  = {'condensed': False, 'enumconc': 'nM', 'k_slow': 1e-4, 'k_fast': 1e-3, 'max_complex_size': 16, 'max_complex_count': 10000, 'max_reaction_count': 10000}\n",
    "    fig.pepperargs['#5-detailed']  = {'condensed': False, 'enumconc': 'nM', 'k_slow': 1e-4, 'k_fast': 1e-2, 'max_complex_size': 24, 'max_complex_count': 10000, 'max_reaction_count': 10000} # solver cannot handle leak\n",
    "    fig.pepperargs['#6-detailed']  = {'condensed': False, 'enumconc': 'nM', 'k_slow': 1e-5, 'k_fast': 1e-2, 'max_complex_size': 24, 'max_complex_count': 10000, 'max_reaction_count': 10000}\n",
    "    \n",
    "    fig.eval('#1-detailed',  verbose = verb, enumprofile = True)\n",
    "    fig.eval('#3-detailed',  verbose = verb, enumprofile = True)\n",
    "    fig.eval('#4-detailed',  verbose = verb, enumprofile = True)\n",
    "    fig.eval('#5-detailed',  verbose = verb, enumprofile = True)\n",
    "    fig.eval('#6-detailed',  verbose = verb, enumprofile = True)"
   ]
  },
  {
   "cell_type": "code",
   "execution_count": null,
   "metadata": {},
   "outputs": [],
   "source": [
    "%%timeit\n",
    "verb = 0\n",
    "for fig in k17:\n",
    "    assert fig.name == 'Kotani & Hughes (2017) Fig. 4 - Autocatalytic DSD system with 4-way branch migration (varying autocatalyst)'\n",
    "    fig.pepperargs['#1-condensed'] = {'condensed': True,  'enumconc': 'nM', 'release_cutoff': 8, 'max_complex_size': 10}  \n",
    "    fig.pepperargs['#3-condensed'] = {'condensed': True,  'enumconc': 'nM', 'k_slow': 1e-4, 'max_complex_size': 10}\n",
    "    fig.pepperargs['#4-condensed'] = {'condensed': True,  'enumconc': 'nM', 'k_slow': 1e-4, 'k_fast': 1e-3, 'max_complex_size': 16, 'max_complex_count': 10000, 'max_reaction_count': 10000}\n",
    "    fig.pepperargs['#5-condensed'] = {'condensed': True,  'enumconc': 'nM', 'k_slow': 1e-4, 'k_fast': 1e-2, 'max_complex_size': 24, 'max_complex_count': 10000, 'max_reaction_count': 10000} # solver cannot handle leak\n",
    "    fig.pepperargs['#6-condensed'] = {'condensed': True,  'enumconc': 'nM', 'k_slow': 1e-5, 'k_fast': 1e-2, 'max_complex_size': 24, 'max_complex_count': 10000, 'max_reaction_count': 10000}\n",
    "    \n",
    "    fig.eval('#1-condensed', verbose = verb, enumprofile = True)\n",
    "    fig.eval('#3-condensed', verbose = verb, enumprofile = True)\n",
    "    fig.eval('#4-condensed', verbose = verb, enumprofile = True)\n",
    "    fig.eval('#5-condensed', verbose = verb, enumprofile = True)\n",
    "    fig.eval('#6-condensed', verbose = verb, enumprofile = True) "
   ]
  },
  {
   "cell_type": "markdown",
   "metadata": {},
   "source": [
    "### Do analysis for plots ..."
   ]
  },
  {
   "cell_type": "code",
   "execution_count": null,
   "metadata": {},
   "outputs": [],
   "source": [
    "def load_old_results(fig, basename, cmpfig):\n",
    "    fig._enumerated |= set([basename + '-enum.pil'])\n",
    "    fig._simulated |= set([basename + '-C1=0.1-simu',\n",
    "                            basename + '-C1=0.01-simu',\n",
    "                            basename + '-C1=0.001-simu',\n",
    "                            basename + '-C1=0-simu'])\n",
    "    fig._simexecs |= set([basename + '-simu.py'])\n",
    "    F4.cmpfig[cmpfig] = basename + '-cmp.nxy'\n",
    "\n",
    "if False: # load old results instead of calculating them again?\n",
    "    load_old_results(F4, \"tmp/Kotani2017-F4-00-#1-detailed\", \"#1-detailed\")\n",
    "    load_old_results(F4, \"tmp/Kotani2017-F4-00-#1-condensed\", \"#1-condensed\")\n",
    "    load_old_results(F4, \"tmp/Kotani2017-F4-00-#3-detailed\", \"#3-detailed\")\n",
    "    load_old_results(F4, \"tmp/Kotani2017-F4-00-#3-condensed\", \"#3-condensed\")\n",
    "    load_old_results(F4, \"tmp/Kotani2017-F4-00-#4-detailed\", \"#4-detailed\")\n",
    "    load_old_results(F4, \"tmp/Kotani2017-F4-00-#4-condensed\", \"#4-condensed\")\n",
    "    load_old_results(F4, \"tmp/Kotani2017-F4-00-#5-detailed\", \"#5-detailed\")\n",
    "    load_old_results(F4, \"tmp/Kotani2017-F4-00-#5-condensed\", \"#5-condensed\")\n",
    "    load_old_results(F4, \"tmp/Kotani2017-F4-00-#6-detailed\", \"#6-detailed\")\n",
    "    load_old_results(F4, \"tmp/Kotani2017-F4-00-#6-condensed\", \"#6-condensed\")"
   ]
  },
  {
   "cell_type": "code",
   "execution_count": null,
   "metadata": {},
   "outputs": [],
   "source": [
    "Table1 = pd.DataFrame()\n",
    "\n",
    "verb = 1\n",
    "for fig in k17:\n",
    "    assert fig.name == 'Kotani & Hughes (2017) Fig. 4 - Autocatalytic DSD system with 4-way branch migration (varying autocatalyst)'\n",
    "    fig.pepperargs['#1-detailed']  = {'condensed': False, 'enumconc': 'nM', 'release_cutoff': 8, 'max_complex_size': 10}\n",
    "    fig.pepperargs['#1-condensed'] = {'condensed': True,  'enumconc': 'nM', 'release_cutoff': 8, 'max_complex_size': 10}\n",
    "    fig.pepperargs['#2-detailed']  = {'condensed': False, 'enumconc': 'nM', 'k_slow': 1e-3, 'max_complex_size': 20} # doesn't work, no 4-way branch migration, no D\n",
    "    fig.pepperargs['#2-condensed'] = {'condensed': True,  'enumconc': 'nM', 'k_slow': 1e-3, 'max_complex_size': 20} # doesn't work, no 4-way branch migration, no D\n",
    "    \n",
    "    fig.pepperargs['#3-detailed']  = {'condensed': False, 'enumconc': 'nM', 'k_slow': 1e-4, 'max_complex_size': 10}\n",
    "    fig.pepperargs['#3-condensed'] = {'condensed': True,  'enumconc': 'nM', 'k_slow': 1e-4, 'max_complex_size': 10}\n",
    "    fig.pepperargs['#4-detailed']  = {'condensed': False, 'enumconc': 'nM', 'k_slow': 1e-4, 'k_fast': 1e-3, 'max_complex_size': 16, 'max_complex_count': 10000, 'max_reaction_count': 10000}\n",
    "    fig.pepperargs['#4-condensed'] = {'condensed': True,  'enumconc': 'nM', 'k_slow': 1e-4, 'k_fast': 1e-3, 'max_complex_size': 16, 'max_complex_count': 10000, 'max_reaction_count': 10000}\n",
    "    fig.pepperargs['#5-detailed']  = {'condensed': False, 'enumconc': 'nM', 'k_slow': 1e-4, 'k_fast': 1e-2, 'max_complex_size': 24, 'max_complex_count': 10000, 'max_reaction_count': 10000} # solver cannot handle leak\n",
    "    fig.pepperargs['#5-condensed'] = {'condensed': True,  'enumconc': 'nM', 'k_slow': 1e-4, 'k_fast': 1e-2, 'max_complex_size': 24, 'max_complex_count': 10000, 'max_reaction_count': 10000} # solver cannot handle leak\n",
    "    fig.pepperargs['#6-detailed']  = {'condensed': False, 'enumconc': 'nM', 'k_slow': 1e-5, 'k_fast': 1e-2, 'max_complex_size': 24, 'max_complex_count': 10000, 'max_reaction_count': 10000}\n",
    "    fig.pepperargs['#6-condensed'] = {'condensed': True,  'enumconc': 'nM', 'k_slow': 1e-5, 'k_fast': 1e-2, 'max_complex_size': 24, 'max_complex_count': 10000, 'max_reaction_count': 10000}\n",
    "    \n",
    "    fig.eval('#1-detailed',  verbose = verb, cmpfig = True)\n",
    "    fig.eval('#1-condensed', verbose = verb, cmpfig = True)\n",
    "    fig.eval('#3-detailed',  verbose = verb, cmpfig = True)\n",
    "    fig.eval('#3-condensed', verbose = verb, cmpfig = True)\n",
    "    fig.eval('#4-detailed',  verbose = verb, cmpfig = True)\n",
    "    fig.eval('#4-condensed', verbose = verb, cmpfig = True)\n",
    "    fig.eval('#5-detailed',  verbose = verb, cmpfig = True)\n",
    "    fig.eval('#5-condensed', verbose = verb, cmpfig = True)\n",
    "    fig.eval('#6-detailed',  verbose = verb, cmpfig = True)\n",
    "    fig.eval('#6-condensed', verbose = verb, cmpfig = True) \n",
    "\n",
    "    for df in fig.get_system_dataframes():\n",
    "        df['Name'] = fig.name\n",
    "        df['condensed'] = 'condensed' if any(map(lambda x: 'condensed' in x, df['Semantics'])) else 'detailed'\n",
    "        df['pargs'] = list(map(lambda x: x[:2], df['Semantics']))\n",
    "        df['Semantics']=sema(df['Semantics'], fig)\n",
    "        Table1 = Table1.append(df)\n"
   ]
  },
  {
   "cell_type": "markdown",
   "metadata": {},
   "source": [
    "# Plotting Data"
   ]
  },
  {
   "cell_type": "code",
   "execution_count": null,
   "metadata": {},
   "outputs": [],
   "source": [
    "import matplotlib.pyplot as plt\n",
    "import seaborn as sns\n",
    "sns.set(style=\"darkgrid\")"
   ]
  },
  {
   "cell_type": "code",
   "execution_count": null,
   "metadata": {},
   "outputs": [],
   "source": [
    "tmpfig = Table1.copy()\n",
    "tmpfig = tmpfig.loc[tmpfig['Name'].isin(['Kotani & Hughes (2017) Fig. 4 - Autocatalytic DSD system with 4-way branch migration (varying autocatalyst)'])]\n",
    "tmpfig = tmpfig.loc[tmpfig['Metric'].isin(['completion-time'])]\n",
    "tmpfig.to_latex('Kotani2017data.tex', index = False, float_format = '{:.0f}'.format)\n",
    "#display(tmpfig)\n",
    "\n",
    "with sns.plotting_context('paper', font_scale = 1.5):\n",
    "    g = sns.lmplot(x=\"Time (experiment)\", \n",
    "               y=\"Time (simulation)\", \n",
    "               hue=\"pargs\", col='condensed', data=tmpfig, scatter_kws={\"s\": 50, \"alpha\": 1},\n",
    "               fit_reg=False, hue_order=['#1', '#2', '#3', '#4', '#5', '#6'], markers=['v', 'x', '^', '.','x','+'])\n",
    "    \n",
    "g.set_titles(row_template = '{row_name}', col_template = '{col_name}')\n",
    "plt.gcf().set_size_inches(4.5,3.2)\n",
    "\n",
    "plt.xscale('log')\n",
    "plt.yscale('log')\n",
    "(mi, ma)=(1e3, 1e5)\n",
    "plt.xlim(0.9e3, 1.1e5)\n",
    "plt.ylim(0.9e2, 1.1e5)\n",
    "for ax in plt.gcf().get_axes():\n",
    "    ax.plot([mi, ma], [mi, ma], linewidth=1, color='white',zorder=0)\n",
    "    ax.set(xlabel='$t_{1/2}$ experiment [s]')\n",
    "plt.gca().set(ylabel='$t_{1/2}$ simulation [s]')\n",
    "\n",
    "plt.savefig('kotani2017_F4_params.pdf', bbox_inches='tight')\n",
    "plt.savefig('kotani2017_F4_params.svg', bbox_inches='tight')"
   ]
  },
  {
   "cell_type": "code",
   "execution_count": null,
   "metadata": {},
   "outputs": [],
   "source": [
    "# Compare reporter trajectory for different initial conditions.\n",
    "\n",
    "# Get Data from File\n",
    "[F4] = k17\n",
    "\n",
    "nxy = np.loadtxt(F4.cmpfig['#1-detailed'], skiprows = 1)\n",
    "legend = ['$C_0 = 100$ pM', '$C_0 = 10$ pM', '$C_0 = 1$ pM', '$C_0 = 0$ pM']\n",
    "time = nxy[:,0] / 3600\n",
    "ys = nxy[:,1:]\n",
    "\n",
    "plt.gca().set_prop_cycle(color=['orange','blue', 'red', 'black'])\n",
    "#plt.figure(figsize=(3.5,2.5))\n",
    "plt.plot(time, ys)\n",
    "\n",
    "plt.xlim(-0.5,15.5)\n",
    "plt.xticks(np.arange(0, 16, step=5), fontsize=10)\n",
    "plt.ylim(-0.5,10.5)\n",
    "plt.yticks(np.arange(0, 11, step=2.5), fontsize=10)\n",
    "\n",
    "plt.legend(legend, ncol=1, fontsize=8);\n",
    "plt.gca().set_xlabel('Time [hours]', fontsize=10)\n",
    "plt.gca().set_ylabel('Concentration D [nM]', fontsize=10)\n",
    "plt.gca().axhline(y=5, linewidth=1, color='black', linestyle='--')\n",
    "\n",
    "#plt.savefig('sim_kotani17.pdf', bbox_inches='tight')\n",
    "#plt.savefig('sim_kotani17.svg', bbox_inches='tight')"
   ]
  },
  {
   "cell_type": "code",
   "execution_count": null,
   "metadata": {},
   "outputs": [],
   "source": []
  }
 ],
 "metadata": {
  "kernelspec": {
   "display_name": "Python [conda env:py37]",
   "language": "python",
   "name": "conda-env-py37-py"
  },
  "language_info": {
   "codemirror_mode": {
    "name": "ipython",
    "version": 3
   },
   "file_extension": ".py",
   "mimetype": "text/x-python",
   "name": "python",
   "nbconvert_exporter": "python",
   "pygments_lexer": "ipython3",
   "version": "3.7.3"
  }
 },
 "nbformat": 4,
 "nbformat_minor": 2
}
