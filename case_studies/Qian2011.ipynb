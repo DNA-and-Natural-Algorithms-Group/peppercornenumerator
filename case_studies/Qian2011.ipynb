{
 "cells": [
  {
   "cell_type": "markdown",
   "metadata": {},
   "source": [
    "# Initialization"
   ]
  },
  {
   "cell_type": "code",
   "execution_count": null,
   "metadata": {},
   "outputs": [],
   "source": [
    "# Helper functions and common imports\n",
    "import pandas as pd; pd.set_option('display.max_colwidth', -1)\n",
    "from numpy import log10, sqrt\n",
    "import matplotlib.pyplot as plt\n",
    "import seaborn as sns\n",
    "sns.set(style=\"darkgrid\")\n",
    "\n",
    "def euclid(x, y, df, take_log=False):\n",
    "    if take_log:\n",
    "        return sqrt(sum((log10(df[x])-log10(df[y]))**2))\n",
    "    else:\n",
    "        return sqrt(sum((df[x]-df[y])**2))\n",
    "    \n",
    "def sema(vect, fig):\n",
    "    #semantics=', '.join('{}={}'.format(x,y) for (x,y) in fig.pepperargs['default'].items() if x != 'conc')\n",
    "    nv = []\n",
    "    for line in vect:\n",
    "        v = []\n",
    "        for (x,y) in fig.pepperargs[line].items():\n",
    "            if x == 'conc': continue\n",
    "            if x == 'max_complex_size': continue\n",
    "            if x == 'max_complex_count': continue\n",
    "            if x == 'max_reaction_count': continue\n",
    "            if x == 'condensed': \n",
    "                z = x if y is True else 'detailed'\n",
    "            else:\n",
    "                z = '{}={}'.format(x,y)\n",
    "            #print(z)\n",
    "            v.append(z)\n",
    "        nv.append(', '.join(v))\n",
    "    return nv\n"
   ]
  },
  {
   "cell_type": "code",
   "execution_count": null,
   "metadata": {},
   "outputs": [],
   "source": [
    "# Retrieve the list of FigureData Objects.\n",
    "from qian2011 import data; q11 = data()\n",
    "from qian2011sqrt import data; q11sq = data()"
   ]
  },
  {
   "cell_type": "markdown",
   "metadata": {},
   "source": [
    "# Get / Update Peppercorn estimates"
   ]
  },
  {
   "cell_type": "code",
   "execution_count": null,
   "metadata": {},
   "outputs": [],
   "source": [
    "# Generate Peppercorn estimates for every FigureData setup.\n",
    "verb = 1\n",
    "\n",
    "Table1 = pd.DataFrame()\n",
    "for fig in q11:\n",
    "    print(fig.name)\n",
    "    if verb:\n",
    "        display(fig.pepperargs['default'])\n",
    "    fig.pepperargs['ddG'] = fig.pepperargs['default'].copy()\n",
    "    fig.pepperargs['ddG']['dG_bp']=-1.3\n",
    "    fig.pepperargs['seesaw'] = {'ssw_rxns':'seesaw-T20-utbr-leak-reduced', 'ssw_conc':100e-9, 'dry_run': True, 'ssw_expl': False, 'enumconc': 'nM'}\n",
    "    fig.eval('default', verbose = verb)\n",
    "    fig.eval('ddG', verbose = verb)\n",
    "    fig.eval('seesaw', verbose = verb)\n",
    "    for df in fig.get_dataframes():\n",
    "        df['Name']=fig.name# + '-' + df['pepperargs']\n",
    "        df['Semantics-tex']=sema(df['Semantics'], fig)\n",
    "        #display(df)\n",
    "        Table1 = Table1.append(df)"
   ]
  },
  {
   "cell_type": "markdown",
   "metadata": {},
   "source": [
    "# Squareroot circuit"
   ]
  },
  {
   "cell_type": "code",
   "execution_count": null,
   "metadata": {},
   "outputs": [],
   "source": [
    "from qian2011sqrt import data; q11sqrt = data()"
   ]
  },
  {
   "cell_type": "code",
   "execution_count": null,
   "metadata": {},
   "outputs": [],
   "source": [
    "# Generate Peppercorn estimates for every FigureData setup.\n",
    "verb = 1\n",
    "for fig in q11sqrt:\n",
    "    print(fig.name)\n",
    "    fig.pepperargs['seesaw'] = {'ssw_rxns':'seesaw-T25-utbr-leak-reduced', 'ssw_conc':50e-9, 'dry_run': True, 'ssw_expl': False, 'enumconc': 'nM'}\n",
    "    fig.pepperargs['ddG'] = fig.pepperargs['default'].copy()\n",
    "    fig.pepperargs['ddG']['dG_bp']=-1.3\n",
    "    fig.eval('default', verbose = verb, cmpfig=True)\n",
    "    fig.eval('seesaw', verbose = verb, cmpfig=True)\n",
    "    fig.eval('ddG', verbose=verb, cmpfig=True)\n",
    "    for df in fig.get_dataframes():\n",
    "        df['Name']=fig.name\n",
    "        df['Semantics-tex']=sema(df['Semantics'], fig)\n",
    "        Table1 = Table1.append(df)"
   ]
  },
  {
   "cell_type": "code",
   "execution_count": null,
   "metadata": {},
   "outputs": [],
   "source": [
    "#fig=q11sqrt[0]\n",
    "#fig._enumerated = set(['tmp/Qian2011-SF31-00-CONDENSED-enum.pil'])\n",
    "#fig._simulated = set(['tmp/Qian2011-SF31-00-CONDENSED-y1_0-1101-simu', 'tmp/Qian2011-SF31-00-CONDENSED-y1_0-1100-simu', 'tmp/Qian2011-SF31-00-CONDENSED-y1_0-0110-simu', 'tmp/Qian2011-SF31-00-CONDENSED-y1_0-0010-simu', 'tmp/Qian2011-SF31-00-CONDENSED-y1_0-0011-simu', 'tmp/Qian2011-SF31-00-CONDENSED-y1_1-1010-simu', 'tmp/Qian2011-SF31-00-CONDENSED-y1_0-0100-simu', 'tmp/Qian2011-SF31-00-CONDENSED-y1_0-0000-simu', 'tmp/Qian2011-SF31-00-CONDENSED-y1_1-0011-simu', 'tmp/Qian2011-SF31-00-CONDENSED-y1_0-0111-simu', 'tmp/Qian2011-SF31-00-CONDENSED-y1_0-1110-simu', 'tmp/Qian2011-SF31-00-CONDENSED-y1_1-0100-simu', 'tmp/Qian2011-SF31-00-CONDENSED-y1_1-0010-simu', 'tmp/Qian2011-SF31-00-CONDENSED-y1_1-0001-simu', 'tmp/Qian2011-SF31-00-CONDENSED-y1_0-1000-simu', 'tmp/Qian2011-SF31-00-CONDENSED-y1_0-1010-simu', 'tmp/Qian2011-SF31-00-CONDENSED-y1_1-1011-simu', 'tmp/Qian2011-SF31-00-CONDENSED-y1_1-1101-simu', 'tmp/Qian2011-SF31-00-CONDENSED-y1_1-0110-simu', 'tmp/Qian2011-SF31-00-CONDENSED-y1_1-0101-simu', 'tmp/Qian2011-SF31-00-CONDENSED-y1_0-0101-simu', 'tmp/Qian2011-SF31-00-CONDENSED-y1_1-1001-simu', 'tmp/Qian2011-SF31-00-CONDENSED-y1_1-1111-simu', 'tmp/Qian2011-SF31-00-CONDENSED-y1_0-1011-simu', 'tmp/Qian2011-SF31-00-CONDENSED-y1_0-1111-simu', 'tmp/Qian2011-SF31-00-CONDENSED-y1_1-0111-simu', 'tmp/Qian2011-SF31-00-CONDENSED-y1_1-1000-simu', 'tmp/Qian2011-SF31-00-CONDENSED-y1_0-1001-simu', 'tmp/Qian2011-SF31-00-CONDENSED-y1_1-0000-simu', 'tmp/Qian2011-SF31-00-CONDENSED-y1_1-1100-simu', 'tmp/Qian2011-SF31-00-CONDENSED-y1_0-0001-simu', 'tmp/Qian2011-SF31-00-CONDENSED-y1_1-1110-simu'])\n",
    "#fig._simexecs = set(['tmp/Qian2011-SF31-00-CONDENSED-simu.py'])"
   ]
  },
  {
   "cell_type": "code",
   "execution_count": null,
   "metadata": {},
   "outputs": [],
   "source": [
    "# Get Data from File\n",
    "SQ = q11sqrt[0]\n",
    "df = pd.read_csv(SQ.cmpfig['ddG'], sep='\\s+')\n",
    "\n",
    "time = df.values[:,0]/3600\n",
    "y1_0 = df.values[:,1:17]\n",
    "y1_1 = df.values[:,17:33]\n",
    "y2_0 = df.values[:,33:49]\n",
    "y2_1 = df.values[:,49:]\n",
    "\n",
    "#legend = ['20 nM', '6 nM', '2 nM', '1 nM', '0.6 nM', '0.4 nM', '0.2 nM', '0.1 nM', '0.06 nM', '0.02 nM', '0.01 nM', '0 nM']\n",
    "#legend = list(df)[1:]\n",
    "\n",
    "#assert ys.shape[1] == len(legend)\n",
    "plt.figure(figsize=(5.5,4.5))\n",
    "\n",
    "# Plot the data\n",
    "plt.plot(time, y1_0, color='blue', linestyle=':')\n",
    "plt.plot(time, y1_1, color='blue')\n",
    "plt.plot(time, y2_0, color='red', linestyle=':')\n",
    "plt.plot(time, y2_1, color='red')\n",
    "plt.plot([0,8], [40, 0], linewidth=1, color='black', linestyle='--', zorder=1)\n",
    "plt.xlim(-0.5,10.5)\n",
    "#plt.xticks(np.arange(0, 21, step=5))\n",
    "\n",
    "plt.ylim(-3,53)\n",
    "#plt.yticks(np.arange(0, 21, step=5))\n",
    "\n",
    "from matplotlib.lines import Line2D\n",
    "custom_lines = [Line2D([0], [0], color='blue', linestyle=':', lw=2),\n",
    "                Line2D([0], [0], color='blue', lw=2),\n",
    "                Line2D([0], [0], color='red', linestyle=':', lw=2),\n",
    "                Line2D([0], [0], color='red', lw=2)]\n",
    "#plt.legend(legend, ncol=1, loc='center right', fontsize=7);\n",
    "plt.legend(custom_lines, ['$Y_1 0$', '$Y_11$', '$Y_20$', '$Y_21$'], loc=\"center right\")\n",
    "\n",
    "plt.gca().set_title('Superimposed squareroot circuit simulations.', fontsize=15)\n",
    "plt.gca().set_xlabel('Time [hours]', fontsize=15)\n",
    "plt.gca().set_ylabel('Concentration [nM]', fontsize=15)\n",
    "#plt.gca().axhline(y=10, linewidth=1, color='black', linestyle='--')\n",
    "\n",
    "plt.savefig('qian2011_sqrt_simu_ddG.pdf', bbox_inches='tight')\n",
    "plt.savefig('qian2011_sqrt_simu_ddG.svg', bbox_inches='tight')"
   ]
  },
  {
   "cell_type": "code",
   "execution_count": null,
   "metadata": {},
   "outputs": [],
   "source": [
    "# Get Data from File\n",
    "SQ = q11sqrt[0]\n",
    "df = pd.read_csv(SQ.cmpfig['seesaw'], sep='\\s+')\n",
    "\n",
    "time = df.values[:,0]/3600\n",
    "y1_0 = df.values[:,1:17]\n",
    "y1_1 = df.values[:,17:33]\n",
    "y2_0 = df.values[:,33:49]\n",
    "y2_1 = df.values[:,49:]\n",
    "\n",
    "#legend = ['20 nM', '6 nM', '2 nM', '1 nM', '0.6 nM', '0.4 nM', '0.2 nM', '0.1 nM', '0.06 nM', '0.02 nM', '0.01 nM', '0 nM']\n",
    "#legend = list(df)[1:]\n",
    "\n",
    "#assert ys.shape[1] == len(legend)\n",
    "plt.figure(figsize=(5.5,4.5))\n",
    "\n",
    "# Plot the data\n",
    "plt.plot(time, y1_0, color='blue', linestyle=':')\n",
    "plt.plot(time, y1_1, color='blue')\n",
    "plt.plot(time, y2_0, color='red', linestyle=':')\n",
    "plt.plot(time, y2_1, color='red')\n",
    "plt.plot([0,8], [40, 0], linewidth=1, color='black', linestyle='--', zorder=1)\n",
    "plt.xlim(-0.5,10.5)\n",
    "#plt.xticks(np.arange(0, 21, step=5))\n",
    "\n",
    "plt.ylim(-3,53)\n",
    "#plt.yticks(np.arange(0, 21, step=5))\n",
    "\n",
    "from matplotlib.lines import Line2D\n",
    "custom_lines = [Line2D([0], [0], color='blue', linestyle=':', lw=2),\n",
    "                Line2D([0], [0], color='blue', lw=2),\n",
    "                Line2D([0], [0], color='red', linestyle=':', lw=2),\n",
    "                Line2D([0], [0], color='red', lw=2)]\n",
    "#plt.legend(legend, ncol=1, loc='center right', fontsize=7);\n",
    "plt.legend(custom_lines, ['$Y_1 0$', '$Y_11$', '$Y_20$', '$Y_21$'], loc=\"upper left\")\n",
    "\n",
    "plt.gca().set_title('Superimposed squareroot circuit simulations.', fontsize=15)\n",
    "plt.gca().set_xlabel('Time [hours]', fontsize=15)\n",
    "plt.gca().set_ylabel('Concentration [nM]', fontsize=15)\n",
    "#plt.gca().axhline(y=10, linewidth=1, color='black', linestyle='--')\n",
    "\n",
    "plt.savefig('qian2011_sqrt_simu_seesaw.pdf', bbox_inches='tight')\n",
    "plt.savefig('qian2011_sqrt_simu_seesaw.svg', bbox_inches='tight')"
   ]
  },
  {
   "cell_type": "markdown",
   "metadata": {},
   "source": [
    "# Seesaw sytems comparison"
   ]
  },
  {
   "cell_type": "code",
   "execution_count": null,
   "metadata": {},
   "outputs": [],
   "source": [
    "\n",
    "tmpfig = Table1.copy()\n",
    "tmpfig['Time (experiment)'] = log10(tmpfig['Time (experiment)'])\n",
    "tmpfig['Time (simulation)'] = log10(tmpfig['Time (simulation)'])\n",
    "#display(tmpfig)\n",
    "\n",
    "g = sns.relplot(x=\"Time (experiment)\", y=\"Time (simulation)\", hue='Name', col=\"Semantics\", data=tmpfig, col_order=['default', 'ddG'])\n",
    " \n",
    "#plt.xscale('log')\n",
    "#plt.yscale('log')\n",
    "(mi, ma)=(2, 5)\n",
    "plt.xlim(mi, ma)\n",
    "plt.ylim(mi, ma)\n",
    "\n",
    "for ax in plt.gcf().get_axes():\n",
    "    #print(ax)\n",
    "    ax.plot([mi, ma], [mi, ma], linewidth=1, color='white',zorder=0)\n",
    "    ax.xaxis.set_major_formatter(plt.FuncFormatter(lambda x,y: \"$10^{{ {:.1f} }}$\".format(x)))\n",
    "    ax.yaxis.set_major_formatter(plt.FuncFormatter(lambda x,y: \"$10^{{ {:.1f} }}$\".format(x)))\n",
    "    ax.set(xlabel='Experimental diagonal crossing time [seconds]')\n",
    "    \n",
    "plt.gcf().get_axes()[0].set(ylabel='Peppercorn diagonal crossing time [seconds]')\n",
    "axes = g.axes.flatten()\n",
    "axes[0].set_title(\"Regular toehold binding energy: -1.7 kcal/mol/nucleotide.\")\n",
    "axes[1].set_title(\"Adjusted toehold binding energy: -1.3 kcal/mol/nucleotide.\")\n",
    "\n",
    "plt.savefig('seesaw_times_peppercorn.pdf', bbox_inches='tight')\n",
    "plt.savefig('seesaw_times_peppercorn.svg', bbox_inches='tight')\n"
   ]
  },
  {
   "cell_type": "code",
   "execution_count": null,
   "metadata": {},
   "outputs": [],
   "source": [
    "tmpfig = Table1.copy()\n",
    "tmpfig['Time (experiment)'] = log10(tmpfig['Time (experiment)'])\n",
    "tmpfig['Time (simulation)'] = log10(tmpfig['Time (simulation)'])\n",
    "\n",
    "g = sns.relplot(x=\"Time (experiment)\", y=\"Time (simulation)\", hue='Name', col=\"Semantics\", data=tmpfig, col_order=['seesaw'])\n",
    " \n",
    "#plt.xscale('log')\n",
    "#plt.yscale('log')\n",
    "(mi, ma)=(2, 5)\n",
    "#plt.xlim(mi, ma)\n",
    "#plt.ylim(mi, ma)\n",
    "\n",
    "for ax in plt.gcf().get_axes():\n",
    "    #print(ax)\n",
    "    ax.plot([mi, ma], [mi, ma], linewidth=1, color='white',zorder=0)\n",
    "    ax.set(xlabel='$t_\\text{diag}$ experiment [s]')\n",
    "    ax.xaxis.set_major_formatter(plt.FuncFormatter(lambda x,y: \"$10^{{ {:.1f} }}$\".format(x)))\n",
    "    ax.yaxis.set_major_formatter(plt.FuncFormatter(lambda x,y: \"$10^{{ {:.1f} }}$\".format(x)))\n",
    "    \n",
    "plt.gcf().get_axes()[0].set(ylabel='t_Seesaw model diagonal crossing time [seconds]')\n",
    "g.set_titles(row_template=\"{row_name}\", col_template=\"{col_name}\")\n",
    "axes = g.axes.flatten()\n",
    "axes[0].set_title(\"Seesaw reaction model Qian & Winfree (2011)\")\n",
    "#axes[1].set_title(\"Toehold binding energy $T = T+2.0$ kcal/mol\")\n",
    "#condensed, ddG_bind=0.0, k_fast=1, k_slow=0.01\n",
    "\n",
    "plt.savefig('seesaw_times_qian.pdf', bbox_inches='tight')\n",
    "plt.savefig('seesaw_times_qian.svg', bbox_inches='tight')\n"
   ]
  },
  {
   "cell_type": "code",
   "execution_count": null,
   "metadata": {},
   "outputs": [],
   "source": [
    "# Write Data to tex files:\n",
    "#display(Table1)\n",
    "# Move Semantics-tex into Semantics column, delete semantics-tex column.\n",
    "tmpfig = Table1.copy()\n",
    "tmpfig['Semantics']=tmpfig['Semantics-tex']\n",
    "tmpfig = tmpfig.drop(columns=['Semantics-tex'])\n",
    "display(tmpfig)\n",
    "\n",
    "tmpfig.to_latex('SeesawData.tex', index=False, float_format='{:.3g}'.format)\n"
   ]
  },
  {
   "cell_type": "code",
   "execution_count": null,
   "metadata": {},
   "outputs": [],
   "source": []
  }
 ],
 "metadata": {
  "kernelspec": {
   "display_name": "Python [conda env:py37]",
   "language": "python",
   "name": "conda-env-py37-py"
  },
  "language_info": {
   "codemirror_mode": {
    "name": "ipython",
    "version": 3
   },
   "file_extension": ".py",
   "mimetype": "text/x-python",
   "name": "python",
   "nbconvert_exporter": "python",
   "pygments_lexer": "ipython3",
   "version": "3.7.3"
  }
 },
 "nbformat": 4,
 "nbformat_minor": 2
}
