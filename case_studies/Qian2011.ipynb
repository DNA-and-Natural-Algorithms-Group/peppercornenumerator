{
 "cells": [
  {
   "cell_type": "markdown",
   "metadata": {},
   "source": [
    "### IMPORTANT: matplotlib.pyplot conflicts with garbage collection of peppercorns' objects. \n",
    "Whenever you enumerate multiple systems that use same-named domains, complexes, etc., make sure to import plotting libraries only after all your data has been generated. (You have to restart the kernel in order to modify your data once a plotting library has been importet, even if it is e.g. a shell script in the background importing that library. Yes, it's terrible.) "
   ]
  },
  {
   "cell_type": "markdown",
   "metadata": {},
   "source": [
    "# Initialization"
   ]
  },
  {
   "cell_type": "code",
   "execution_count": null,
   "metadata": {},
   "outputs": [],
   "source": [
    "import pandas as pd; pd.set_option('display.max_colwidth', None)\n",
    "from numpy import log10, sqrt"
   ]
  },
  {
   "cell_type": "code",
   "execution_count": null,
   "metadata": {},
   "outputs": [],
   "source": [
    "def sema(vect, fig):\n",
    "    \"\"\"Rewrite the semantics column into a more compact, human readable version.\n",
    "    \"\"\"\n",
    "    nv = []\n",
    "    for line in vect:\n",
    "        v = []\n",
    "        for (x,y) in fig.pepperargs[line].items():\n",
    "            if x == 'enumconc': continue\n",
    "            if x == 'max_complex_size': continue\n",
    "            if x == 'max_complex_count': continue\n",
    "            if x == 'max_reaction_count': continue\n",
    "            if x == 'condensed': \n",
    "                z = x if y is True else 'detailed'\n",
    "            else:\n",
    "                z = '{}={}'.format(x,y)\n",
    "            v.append(z)\n",
    "        nv.append(', '.join(v))\n",
    "    return nv"
   ]
  },
  {
   "cell_type": "code",
   "execution_count": null,
   "metadata": {},
   "outputs": [],
   "source": [
    "# Retrieve the list of FigureData Objects.\n",
    "from qian2011 import data; q11 = data()\n",
    "from qian2011sqrt import data as datasq; q11sq = datasq()"
   ]
  },
  {
   "cell_type": "markdown",
   "metadata": {},
   "source": [
    "### Time detailed vs condensed runs (that takes a while)"
   ]
  },
  {
   "cell_type": "code",
   "execution_count": null,
   "metadata": {},
   "outputs": [],
   "source": [
    "%%timeit\n",
    "q11 = data()\n",
    "for fig in q11:  \n",
    "    fig.pepperargs['default']['condensed'] = False\n",
    "    fig.eval(verbose = 0, enumprofile = True)"
   ]
  },
  {
   "cell_type": "code",
   "execution_count": null,
   "metadata": {},
   "outputs": [],
   "source": [
    "%%timeit\n",
    "q11 = data()\n",
    "for fig in q11:  \n",
    "    fig.pepperargs['default']['condensed'] = True\n",
    "    fig.eval(verbose = 0, enumprofile = True)"
   ]
  },
  {
   "cell_type": "code",
   "execution_count": null,
   "metadata": {},
   "outputs": [],
   "source": [
    "%%timeit\n",
    "q11sq = datasq()\n",
    "for fig in q11sq:\n",
    "    fig.pepperargs['default']['condensed'] = False\n",
    "    fig.eval(verbose = 1, enumprofile = True)"
   ]
  },
  {
   "cell_type": "code",
   "execution_count": null,
   "metadata": {},
   "outputs": [],
   "source": [
    "%%timeit\n",
    "q11sq = datasq()\n",
    "for fig in q11sq:\n",
    "    fig.pepperargs['default']['condensed'] = True\n",
    "    fig.eval(verbose = 1, enumprofile = True)"
   ]
  },
  {
   "cell_type": "markdown",
   "metadata": {},
   "source": [
    "# Get / Update Peppercorn estimates"
   ]
  },
  {
   "cell_type": "code",
   "execution_count": null,
   "metadata": {},
   "outputs": [],
   "source": [
    "# Generate Peppercorn estimates for every FigureData setup.\n",
    "verb = 0\n",
    "Table1 = pd.DataFrame()\n",
    "for fig in q11:\n",
    "    print(fig.name)\n",
    "    if verb:\n",
    "        display(fig.pepperargs['default'])\n",
    "    fig.pepperargs['ddG'] = fig.pepperargs['default'].copy()\n",
    "    fig.pepperargs['ddG']['dG_bp'] = -1.3\n",
    "    fig.pepperargs['seesaw'] = {\n",
    "        'ssw_rxns': 'seesaw-T20-utbr-leak-reduced', \n",
    "        'ssw_conc': 100e-9, \n",
    "        'dry_run': True, \n",
    "        'ssw_expl': False, \n",
    "        'enumconc': 'nM'}\n",
    "    fig.eval('default', verbose = verb)\n",
    "    fig.eval('ddG', verbose = verb)\n",
    "    fig.eval('seesaw', verbose = verb)\n",
    "    for df in fig.get_dataframes():\n",
    "        df['Name']=fig.name# + '-' + df['pepperargs']\n",
    "        df['Semantics-tex']=sema(df['Semantics'], fig)\n",
    "        #display(df)\n",
    "        Table1 = Table1.append(df)"
   ]
  },
  {
   "cell_type": "markdown",
   "metadata": {},
   "source": [
    "# Squareroot circuit"
   ]
  },
  {
   "cell_type": "code",
   "execution_count": null,
   "metadata": {},
   "outputs": [],
   "source": [
    "def load_old_results(fig, basename, cmpfig):\n",
    "    fig._enumerated |= set([basename + '-enum.pil'])\n",
    "    fig._simulated |= set([basename + '-y1_0-1101-simu', \n",
    "                          basename + '-y1_0-1100-simu', \n",
    "                          basename + '-y1_0-0110-simu', \n",
    "                          basename + '-y1_0-0010-simu', \n",
    "                          basename + '-y1_0-0011-simu', \n",
    "                          basename + '-y1_1-1010-simu', \n",
    "                          basename + '-y1_0-0100-simu', \n",
    "                          basename + '-y1_0-0000-simu', \n",
    "                          basename + '-y1_1-0011-simu', \n",
    "                          basename + '-y1_0-0111-simu', \n",
    "                          basename + '-y1_0-1110-simu', \n",
    "                          basename + '-y1_1-0100-simu', \n",
    "                          basename + '-y1_1-0010-simu', \n",
    "                          basename + '-y1_1-0001-simu', \n",
    "                          basename + '-y1_0-1000-simu', \n",
    "                          basename + '-y1_0-1010-simu', \n",
    "                          basename + '-y1_1-1011-simu', \n",
    "                          basename + '-y1_1-1101-simu', \n",
    "                          basename + '-y1_1-0110-simu', \n",
    "                          basename + '-y1_1-0101-simu', \n",
    "                          basename + '-y1_0-0101-simu', \n",
    "                          basename + '-y1_1-1001-simu', \n",
    "                          basename + '-y1_1-1111-simu', \n",
    "                          basename + '-y1_0-1011-simu', \n",
    "                          basename + '-y1_0-1111-simu', \n",
    "                          basename + '-y1_1-0111-simu', \n",
    "                          basename + '-y1_1-1000-simu', \n",
    "                          basename + '-y1_0-1001-simu', \n",
    "                          basename + '-y1_1-0000-simu', \n",
    "                          basename + '-y1_1-1100-simu', \n",
    "                          basename + '-y1_0-0001-simu', \n",
    "                          basename + '-y1_1-1110-simu',\n",
    "                          basename + '-y2_0-1101-simu', \n",
    "                          basename + '-y2_0-1100-simu', \n",
    "                          basename + '-y2_0-0110-simu', \n",
    "                          basename + '-y2_0-0010-simu', \n",
    "                          basename + '-y2_0-0011-simu', \n",
    "                          basename + '-y2_1-1010-simu', \n",
    "                          basename + '-y2_0-0100-simu', \n",
    "                          basename + '-y2_0-0000-simu', \n",
    "                          basename + '-y2_1-0011-simu', \n",
    "                          basename + '-y2_0-0111-simu', \n",
    "                          basename + '-y2_0-1110-simu', \n",
    "                          basename + '-y2_1-0100-simu', \n",
    "                          basename + '-y2_1-0010-simu', \n",
    "                          basename + '-y2_1-0001-simu', \n",
    "                          basename + '-y2_0-1000-simu', \n",
    "                          basename + '-y2_0-1010-simu', \n",
    "                          basename + '-y2_1-1011-simu', \n",
    "                          basename + '-y2_1-1101-simu', \n",
    "                          basename + '-y2_1-0110-simu', \n",
    "                          basename + '-y2_1-0101-simu', \n",
    "                          basename + '-y2_0-0101-simu', \n",
    "                          basename + '-y2_1-1001-simu', \n",
    "                          basename + '-y2_1-1111-simu', \n",
    "                          basename + '-y2_0-1011-simu', \n",
    "                          basename + '-y2_0-1111-simu', \n",
    "                          basename + '-y2_1-0111-simu', \n",
    "                          basename + '-y2_1-1000-simu', \n",
    "                          basename + '-y2_0-1001-simu', \n",
    "                          basename + '-y2_1-0000-simu', \n",
    "                          basename + '-y2_1-1100-simu', \n",
    "                          basename + '-y2_0-0001-simu', \n",
    "                          basename + '-y2_1-1110-simu'])\n",
    "    fig._simexecs |= set([basename + '-simu.py'])\n",
    "    fig.cmpfig[cmpfig] = basename + '-cmp.nxy'\n",
    "\n",
    "if False:\n",
    "    load_old_results(q11sq[0], \"tmp/Qian2011-SF31-00-default\", \"default\")\n",
    "    load_old_results(q11sq[0], \"tmp/Qian2011-SF31-00-ddG\", \"ddG\")\n",
    "    load_old_results(q11sq[0], \"tmp/Qian2011-SF31-00-seesaw\", \"seesaw\")"
   ]
  },
  {
   "cell_type": "code",
   "execution_count": null,
   "metadata": {},
   "outputs": [],
   "source": [
    "# Generate Peppercorn estimates for every FigureData setup.\n",
    "verb = 0\n",
    "for fig in q11sq:\n",
    "    print(fig.name)\n",
    "    fig.pepperargs['seesaw'] = {'ssw_rxns':'seesaw-T25-utbr-leak-reduced', 'ssw_conc':50e-9, 'dry_run': True, 'ssw_expl': False, 'enumconc': 'nM'}\n",
    "    fig.pepperargs['ddG'] = fig.pepperargs['default'].copy()\n",
    "    fig.pepperargs['ddG']['dG_bp']=-1.3\n",
    "    fig.eval('default', verbose = verb, cmpfig=True)\n",
    "    fig.eval('seesaw', verbose = verb, cmpfig=True)\n",
    "    fig.eval('ddG', verbose=verb, cmpfig=True)\n",
    "    for df in fig.get_dataframes():\n",
    "        df['Name']=fig.name\n",
    "        df['Semantics-tex']=sema(df['Semantics'], fig)\n",
    "        Table1 = Table1.append(df)"
   ]
  },
  {
   "cell_type": "markdown",
   "metadata": {},
   "source": [
    "# Seesaw sytems comparison"
   ]
  },
  {
   "cell_type": "code",
   "execution_count": null,
   "metadata": {},
   "outputs": [],
   "source": [
    "import matplotlib.pyplot as plt\n",
    "import seaborn as sns\n",
    "sns.set(style=\"darkgrid\")"
   ]
  },
  {
   "cell_type": "code",
   "execution_count": null,
   "metadata": {},
   "outputs": [],
   "source": [
    "\n",
    "\n",
    "# Get Data from File\n",
    "SQ = q11sq[0]\n",
    "df = pd.read_csv(SQ.cmpfig['ddG'], sep='\\s+')\n",
    "\n",
    "time = df.values[:,0]/3600\n",
    "y1_0 = df.values[:,1:17]\n",
    "y1_1 = df.values[:,17:33]\n",
    "y2_0 = df.values[:,33:49]\n",
    "y2_1 = df.values[:,49:]\n",
    "\n",
    "plt.figure(figsize=(5.5,4.5))\n",
    "\n",
    "# Plot the data\n",
    "plt.plot(time, y1_0, color = 'blue', linestyle = ':')\n",
    "plt.plot(time, y1_1, color = 'blue')\n",
    "plt.plot(time, y2_0, color = 'red', linestyle = ':')\n",
    "plt.plot(time, y2_1, color = 'red')\n",
    "plt.plot([0,8], [40, 0], linewidth = 1, color = 'black', linestyle = '--', zorder = 1)\n",
    "\n",
    "plt.xlim(-0.5,10.5)\n",
    "#plt.xticks(np.arange(0, 21, step=5))\n",
    "plt.ylim(-3,53)\n",
    "#plt.yticks(np.arange(0, 21, step=5))\n",
    "\n",
    "from matplotlib.lines import Line2D\n",
    "custom_lines = [Line2D([0], [0], color = 'blue', linestyle = ':', lw = 2),\n",
    "                Line2D([0], [0], color = 'blue', lw = 2),\n",
    "                Line2D([0], [0], color = 'red', linestyle = ':', lw = 2),\n",
    "                Line2D([0], [0], color = 'red', lw = 2)]\n",
    "plt.legend(custom_lines, \n",
    "           ['$Y_1 0$', '$Y_11$', '$Y_20$', '$Y_21$'], \n",
    "           loc = \"center right\")\n",
    "\n",
    "plt.gca().set_title('Superimposed square-root circuit simulations.', fontsize = 15)\n",
    "plt.gca().set_xlabel('Time [hours]', fontsize = 15)\n",
    "plt.gca().set_ylabel('Concentration [nM]', fontsize = 15)\n",
    "\n",
    "plt.savefig('qian2011_sqrt_simu_ddG.pdf', bbox_inches='tight')\n",
    "plt.savefig('qian2011_sqrt_simu_ddG.svg', bbox_inches='tight')"
   ]
  },
  {
   "cell_type": "code",
   "execution_count": null,
   "metadata": {},
   "outputs": [],
   "source": [
    "# Get Data from File\n",
    "SQ = q11sq[0]\n",
    "df = pd.read_csv(SQ.cmpfig['seesaw'], sep='\\s+')\n",
    "\n",
    "time = df.values[:,0]/3600\n",
    "y1_0 = df.values[:,1:17]\n",
    "y1_1 = df.values[:,17:33]\n",
    "y2_0 = df.values[:,33:49]\n",
    "y2_1 = df.values[:,49:]\n",
    "\n",
    "plt.figure(figsize=(5.5,4.5))\n",
    "\n",
    "# Plot the data\n",
    "plt.plot(time, y1_0, color='blue', linestyle=':')\n",
    "plt.plot(time, y1_1, color='blue')\n",
    "plt.plot(time, y2_0, color='red', linestyle=':')\n",
    "plt.plot(time, y2_1, color='red')\n",
    "plt.plot([0,8], [40, 0], linewidth=1, color='black', linestyle='--', zorder=1)\n",
    "\n",
    "plt.xlim(-0.5,10.5)\n",
    "plt.ylim(-3,53)\n",
    "\n",
    "from matplotlib.lines import Line2D\n",
    "custom_lines = [Line2D([0], [0], color='blue', linestyle=':', lw=2),\n",
    "                Line2D([0], [0], color='blue', lw=2),\n",
    "                Line2D([0], [0], color='red', linestyle=':', lw=2),\n",
    "                Line2D([0], [0], color='red', lw=2)]\n",
    "plt.legend(custom_lines, ['$Y_1 0$', '$Y_11$', '$Y_20$', '$Y_21$'], loc=\"upper left\")\n",
    "\n",
    "plt.gca().set_title('Superimposed square-root circuit simulations.', fontsize=15)\n",
    "plt.gca().set_xlabel('Time [hours]', fontsize=15)\n",
    "plt.gca().set_ylabel('Concentration [nM]', fontsize=15)\n",
    "\n",
    "plt.savefig('qian2011_sqrt_simu_seesaw.pdf', bbox_inches='tight')\n",
    "plt.savefig('qian2011_sqrt_simu_seesaw.svg', bbox_inches='tight')"
   ]
  },
  {
   "cell_type": "code",
   "execution_count": null,
   "metadata": {},
   "outputs": [],
   "source": [
    "tmpfig = Table1.copy()\n",
    "tmpfig['Time (experiment)'] = log10(tmpfig['Time (experiment)'])\n",
    "tmpfig['Time (simulation)'] = log10(tmpfig['Time (simulation)'])\n",
    "#display(tmpfig)\n",
    "\n",
    "g = sns.relplot(x=\"Time (experiment)\", y=\"Time (simulation)\", hue='Name', col=\"Semantics\", data=tmpfig, col_order=['default', 'ddG'])\n",
    " \n",
    "(mi, ma)=(2, 5)\n",
    "plt.xlim(mi, ma)\n",
    "plt.ylim(mi, ma)\n",
    "\n",
    "for ax in plt.gcf().get_axes():\n",
    "    ax.plot([mi, ma], [mi, ma], linewidth=1, color='white',zorder=0)\n",
    "    ax.xaxis.set_major_formatter(plt.FuncFormatter(lambda x,y: \"$10^{{ {:.1f} }}$\".format(x)))\n",
    "    ax.yaxis.set_major_formatter(plt.FuncFormatter(lambda x,y: \"$10^{{ {:.1f} }}$\".format(x)))\n",
    "    ax.set(xlabel='Experimental diagonal crossing time [seconds]')\n",
    "    \n",
    "plt.gcf().get_axes()[0].set(ylabel='Peppercorn diagonal crossing time [seconds]')\n",
    "axes = g.axes.flatten()\n",
    "axes[0].set_title(\"Regular toehold binding energy: -1.7 kcal/mol/nucleotide.\", fontsize = 11)\n",
    "axes[1].set_title(\"Adjusted toehold binding energy: -1.3 kcal/mol/nucleotide.\", fontsize = 11)\n",
    "\n",
    "plt.savefig('seesaw_times_peppercorn.pdf', bbox_inches='tight')\n",
    "plt.savefig('seesaw_times_peppercorn.svg', bbox_inches='tight')\n"
   ]
  },
  {
   "cell_type": "code",
   "execution_count": null,
   "metadata": {},
   "outputs": [],
   "source": [
    "tmpfig = Table1.copy()\n",
    "tmpfig['Time (experiment)'] = log10(tmpfig['Time (experiment)'])\n",
    "tmpfig['Time (simulation)'] = log10(tmpfig['Time (simulation)'])\n",
    "\n",
    "g = sns.relplot(x=\"Time (experiment)\", y=\"Time (simulation)\", hue='Name', col=\"Semantics\", data=tmpfig, col_order=['seesaw'])\n",
    "\n",
    "(mi, ma)=(2, 5)\n",
    "for ax in plt.gcf().get_axes():\n",
    "    #print(ax)\n",
    "    ax.plot([mi, ma], [mi, ma], linewidth=1, color='white',zorder=0)\n",
    "    ax.set(xlabel='Experimental diagonal crossing time [seconds]')\n",
    "    ax.xaxis.set_major_formatter(plt.FuncFormatter(lambda x,y: \"$10^{{ {:.1f} }}$\".format(x)))\n",
    "    ax.yaxis.set_major_formatter(plt.FuncFormatter(lambda x,y: \"$10^{{ {:.1f} }}$\".format(x)))\n",
    "plt.xlim(mi, ma)\n",
    "plt.ylim(mi, ma)    \n",
    "plt.gcf().get_axes()[0].set(ylabel='Seesaw model diagonal crossing time [seconds]')\n",
    "g.set_titles(row_template=\"{row_name}\", col_template=\"{col_name}\")\n",
    "axes = g.axes.flatten()\n",
    "axes[0].set_title(\"Seesaw reaction model Qian & Winfree (2011)\")\n",
    "\n",
    "plt.savefig('seesaw_times_qian.pdf', bbox_inches='tight')\n",
    "plt.savefig('seesaw_times_qian.svg', bbox_inches='tight')\n"
   ]
  },
  {
   "cell_type": "code",
   "execution_count": null,
   "metadata": {},
   "outputs": [],
   "source": [
    "# Write Data to tex files:\n",
    "# Move Semantics-tex into Semantics column, delete semantics-tex column.\n",
    "tmpfig = Table1.copy()\n",
    "tmpfig['Semantics']=tmpfig['Semantics-tex']\n",
    "tmpfig = tmpfig.drop(columns=['Semantics-tex'])\n",
    "#display(tmpfig)\n",
    "\n",
    "tmpfig.to_latex('SeesawData.tex', index=False, float_format='{:.3g}'.format)\n"
   ]
  },
  {
   "cell_type": "code",
   "execution_count": null,
   "metadata": {},
   "outputs": [],
   "source": []
  }
 ],
 "metadata": {
  "kernelspec": {
   "display_name": "py38",
   "language": "python",
   "name": "py38"
  },
  "language_info": {
   "codemirror_mode": {
    "name": "ipython",
    "version": 3
   },
   "file_extension": ".py",
   "mimetype": "text/x-python",
   "name": "python",
   "nbconvert_exporter": "python",
   "pygments_lexer": "ipython3",
   "version": "3.8.5"
  }
 },
 "nbformat": 4,
 "nbformat_minor": 4
}
