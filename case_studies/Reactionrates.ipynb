{
 "cells": [
  {
   "cell_type": "markdown",
   "metadata": {},
   "source": [
    "# Condensed rates vs. experiments\n",
    "## Zhang & Winfree 2009, Dabby 2013, Genot et al. 2011"
   ]
  },
  {
   "cell_type": "markdown",
   "metadata": {},
   "source": [
    "# Initialization - Global"
   ]
  },
  {
   "cell_type": "code",
   "execution_count": null,
   "metadata": {},
   "outputs": [],
   "source": [
    "import pandas as pd\n",
    "import seaborn as sns\n",
    "import matplotlib.pyplot as plt\n",
    "from numpy import log10, sqrt\n",
    "\n",
    "sns.set(style=\"darkgrid\")\n",
    "\n",
    "# Helper function to calculate Euclidean distance\n",
    "def euclid(x, y, df, take_log=False):\n",
    "    if take_log:\n",
    "        return sqrt(sum((log10(df[x])-log10(df[y]))**2))\n",
    "    else:\n",
    "        return sqrt(sum((df[x]-df[y])**2))\n",
    "    \n",
    "def sema(vect, fig):\n",
    "    #semantics=', '.join('{}={}'.format(x,y) for (x,y) in fig.pepperargs['default'].items() if x != 'conc')\n",
    "    nv = []\n",
    "    for line in vect:\n",
    "        v = []\n",
    "        for (x,y) in fig.pepperargs[line].items():\n",
    "            if x == 'conc': continue\n",
    "            if x == 'max_complex_size': continue\n",
    "            if x == 'max_complex_count': continue\n",
    "            if x == 'max_reaction_count': continue\n",
    "            if x == 'condensed': \n",
    "                z = x if y is True else 'detailed'\n",
    "            else:\n",
    "                z = '{}={}'.format(x,y)\n",
    "            v.append(z)\n",
    "        nv.append(', '.join(v))\n",
    "    return nv\n",
    " "
   ]
  },
  {
   "cell_type": "markdown",
   "metadata": {},
   "source": [
    "## Initialization - Figure 1"
   ]
  },
  {
   "cell_type": "code",
   "execution_count": null,
   "metadata": {},
   "outputs": [],
   "source": [
    "from zhang2009_rates import data; z09r = data()\n",
    "from dabby2013_rates import data; d13r = data()\n",
    "\n",
    "Table1 = pd.DataFrame()"
   ]
  },
  {
   "cell_type": "markdown",
   "metadata": {},
   "source": [
    "### Zhang and Winfree 2009"
   ]
  },
  {
   "cell_type": "code",
   "execution_count": null,
   "metadata": {},
   "outputs": [],
   "source": [
    "for fig in z09r:\n",
    "    fig.eval()\n",
    "    #display(fig.pepperargs['default'])\n",
    "    semantics=', '.join('{}={}'.format(x,y) for (x,y) in fig.pepperargs['default'].items() if x != 'conc')\n",
    "    for df in fig.get_dataframes():\n",
    "        df['Semantics']=semantics\n",
    "        df.to_latex(fig.fname+'.tex', index=False, float_format='{:.3f}'.format)\n",
    "        df['Name']=fig.name \n",
    "        #display(df)\n",
    "        dist = euclid('Rate (experiment)', 'Rate (calculated)', df, take_log=True)\n",
    "        print('{:s} -- Fitness: {:g}'.format(fig.fname, dist))\n",
    "        Table1 = Table1.append(df)\n"
   ]
  },
  {
   "cell_type": "markdown",
   "metadata": {},
   "source": [
    "### Dabby 2013"
   ]
  },
  {
   "cell_type": "code",
   "execution_count": null,
   "metadata": {},
   "outputs": [],
   "source": [
    "for fig in d13r:\n",
    "    fig.pepperargs['default']['conc'] = 'M'\n",
    "    display(fig.pepperargs['default'])\n",
    "    fig.eval()\n",
    "    semantics=', '.join('{}={}'.format(x,y) for (x,y) in fig.pepperargs['default'].items() if x != 'conc')\n",
    "    for df in fig.get_dataframes():\n",
    "        df['Semantics']=semantics\n",
    "        df.to_latex(fig.fname+'.tex', float_format='{:.3f}'.format, index=False)\n",
    "        df['Name']=fig.name \n",
    "        display(df)\n",
    "        dist = euclid('Rate (experiment)', 'Rate (calculated)', df, take_log=True)\n",
    "        print('{:s} -- Fitness: {:g}'.format(fig.fname+'.tex', dist))\n",
    "        Table1 = Table1.append(df)        "
   ]
  },
  {
   "cell_type": "code",
   "execution_count": null,
   "metadata": {},
   "outputs": [],
   "source": [
    "# Data adjustments:\n",
    "tmpfig = Table1.copy()\n",
    "tmpfig['Rate (experiment)'] = log10(tmpfig['Rate (experiment)'])\n",
    "tmpfig['Rate (calculated)'] = log10(tmpfig['Rate (calculated)'])\n",
    "#display(tmpfig)\n",
    "\n",
    "# Figure layout:\n",
    "g = sns.lmplot(x=\"Rate (experiment)\", y=\"Rate (calculated)\", col=\"Name\", hue='Name', data=tmpfig, sharex = False, sharey = False,\n",
    "           col_wrap=2, ci=None, truncate=False, palette=\"muted\", height = 3.6, scatter_kws={\"s\": 20, \"alpha\": 1})\n",
    "\n",
    "(mi, ma)=(-2, 8)\n",
    "plt.xlim(-2.5, 8.5)\n",
    "plt.ylim(-2.5, 8.5)\n",
    "\n",
    "for ax in g.axes:\n",
    "    ax.xaxis.set_major_formatter(plt.FuncFormatter(lambda x,y: \"$10^{{ {:.0f} }}$\".format(x)))\n",
    "    ax.yaxis.set_major_formatter(plt.FuncFormatter(lambda x,y: \"$10^{{ {:.0f} }}$\".format(x)))\n",
    "\n",
    "    ax.plot([mi, ma], [mi, ma], linewidth=3, color='white', zorder=0)\n",
    "    ax.set(xlabel='Experimental rate constant [/M/s]')\n",
    "    ax.set(ylabel='Peppercorn rate constant [/M/s]')\n",
    "    \n",
    "g.set_titles(row_template=\"{row_name}\", col_template=\"{col_name}\")\n",
    "\n",
    "plt.savefig('proximal_rates.pdf')\n",
    "plt.savefig('proximal_rates.svg')"
   ]
  },
  {
   "cell_type": "markdown",
   "metadata": {},
   "source": [
    "# Genot et al. 2011"
   ]
  },
  {
   "cell_type": "code",
   "execution_count": null,
   "metadata": {},
   "outputs": [],
   "source": [
    "from genot2011 import data; g11 = data()\n",
    "Table2 = pd.DataFrame()"
   ]
  },
  {
   "cell_type": "code",
   "execution_count": null,
   "metadata": {},
   "outputs": [],
   "source": [
    "for e, fig in enumerate(g11):\n",
    "    #display(fig.pepperargs['default'])\n",
    "    fig.eval('default', cmpfig='hack', verbose=0)\n",
    "\n",
    "    #fig.pepperargs['detailed-default'] = fig.pepperargs['default'].copy()\n",
    "    #fig.pepperargs['detailed-default']['condensed'] = False\n",
    "    #fig.eval('detailed-default', cmpfig='hack', verbose=0)\n",
    "\n",
    "    #fig.pepperargs['ddG'] = fig.pepperargs['default'].copy()\n",
    "    #fig.pepperargs['ddG']['dG_bp'] = -1.3\n",
    "    #fig.eval('ddG', cmpfig='hack', verbose=0)\n",
    "\n",
    "    for df in fig.get_dataframes():\n",
    "        df['Semantics']=sema(df['Semantics'], fig)\n",
    "        df['Name']=fig.name\n",
    "        dist = euclid('Time (experiment)', 'Time (simulation)', df, take_log=True)\n",
    "        print('{:s} -- Fitness: {:g}'.format(fig.name,dist))\n",
    "        Table2 = Table2.append(df)"
   ]
  },
  {
   "cell_type": "code",
   "execution_count": null,
   "metadata": {},
   "outputs": [],
   "source": [
    "#display(Table2)\n",
    "Table2.to_latex('Genot2011data.tex', index=False, float_format='{:.3g}'.format)\n",
    "\n",
    "tmpfig = Table2.copy()\n",
    "tmpfig['Time (experiment)'] = log10(tmpfig['Time (experiment)'])\n",
    "tmpfig['Time (simulation)'] = log10(tmpfig['Time (simulation)'])\n",
    "#display(tmpfig)\n",
    "\n",
    "sns.set_palette(\"husl\")\n",
    "\n",
    "mycolors = ['blue', \n",
    "            'red', \n",
    "            'green', \n",
    "            'orange', \n",
    "            'maroon', \n",
    "            'springgreen', \n",
    "            'cyan', \n",
    "            'magenta', \n",
    "            'yellow']\n",
    "mycolors += list('kkkkkkkkkkk')\n",
    "mymarker = list('po.*^v+_,phD8|_oooooooo')\n",
    "\n",
    "g = sns.lmplot(x=\"Time (experiment)\", y=\"Time (simulation)\", hue='Name', height = 3.6, #col=\"Semantics\", \n",
    "               data=tmpfig, fit_reg=False, markers=['o', 'x', 'x', 'v', 'v', 'o'], legend=False)\n",
    "g.fig.set_size_inches(4.3,3.4)\n",
    "\n",
    "# Adjust plot\n",
    "(mi, ma)=(0, 5)\n",
    "plt.ylim(-.5, 8.)\n",
    "\n",
    "plt.gca().xaxis.set_major_formatter(plt.FuncFormatter(lambda x,y: \"$10^{{ {:.0f} }}$\".format(x)))\n",
    "plt.gca().yaxis.set_major_formatter(plt.FuncFormatter(lambda x,y: \"$10^{{ {:.0f} }}$\".format(x)))\n",
    "\n",
    "for ax in plt.gcf().get_axes():\n",
    "    ax.plot([mi, ma], [mi, ma], linewidth=3, color='white',zorder=0)\n",
    "\n",
    "g.set(title='Genot et al. (2011)\\nremote-toehold strand displacement')  \n",
    "g.set(xlabel='Experimental completion time [s]')  \n",
    "g.set(ylabel='Peppercorn completion time [s]')\n",
    "    \n",
    "legend = plt.legend(ncol=1, loc='upper left', fontsize=7.8);\n",
    "frame = legend.get_frame()\n",
    "frame.set_facecolor('white')\n",
    "\n",
    "plt.savefig('remote_rates.pdf', bbox_inches='tight')\n",
    "plt.savefig('remote_rates.svg', bbox_inches='tight')"
   ]
  },
  {
   "cell_type": "code",
   "execution_count": null,
   "metadata": {},
   "outputs": [],
   "source": []
  }
 ],
 "metadata": {
  "kernelspec": {
   "display_name": "Python [conda env:py37]",
   "language": "python",
   "name": "conda-env-py37-py"
  },
  "language_info": {
   "codemirror_mode": {
    "name": "ipython",
    "version": 3
   },
   "file_extension": ".py",
   "mimetype": "text/x-python",
   "name": "python",
   "nbconvert_exporter": "python",
   "pygments_lexer": "ipython3",
   "version": "3.7.3"
  }
 },
 "nbformat": 4,
 "nbformat_minor": 2
}
