{
 "cells": [
  {
   "cell_type": "markdown",
   "metadata": {},
   "source": [
    "# Condensed rates vs. experiments\n",
    "## Zhang & Winfree 2009, Dabby 2013, Genot et al. 2011"
   ]
  },
  {
   "cell_type": "markdown",
   "metadata": {},
   "source": [
    "# Initialization - Global"
   ]
  },
  {
   "cell_type": "code",
   "execution_count": null,
   "metadata": {},
   "outputs": [],
   "source": [
    "import pandas as pd\n",
    "import seaborn as sns\n",
    "import matplotlib.pyplot as plt\n",
    "from numpy import log10, sqrt\n",
    "sns.set(style=\"darkgrid\")"
   ]
  },
  {
   "cell_type": "code",
   "execution_count": null,
   "metadata": {},
   "outputs": [],
   "source": [
    "def sema(vect, fig):\n",
    "    \"\"\"Rewrite the semantics column into a more compact, human readable version.\n",
    "    \"\"\"\n",
    "    nv = []\n",
    "    for line in vect:\n",
    "        v = []\n",
    "        for (x,y) in fig.pepperargs[line].items():\n",
    "            if x == 'enumconc': continue\n",
    "            if x == 'max_complex_size': continue\n",
    "            if x == 'max_complex_count': continue\n",
    "            if x == 'max_reaction_count': continue\n",
    "            if x == 'condensed': \n",
    "                z = x if y is True else 'detailed'\n",
    "            else:\n",
    "                z = '{}={}'.format(x,y)\n",
    "            v.append(z)\n",
    "        nv.append(', '.join(v))\n",
    "    return nv"
   ]
  },
  {
   "cell_type": "markdown",
   "metadata": {},
   "source": [
    "## Data generation 1/2"
   ]
  },
  {
   "cell_type": "code",
   "execution_count": null,
   "metadata": {},
   "outputs": [],
   "source": [
    "from zhang2009_rates import data as zhangdata; z09r = zhangdata()\n",
    "from dabby2013_rates import data as dabbydata; d13r = dabbydata()\n",
    "\n",
    "Table1 = pd.DataFrame()"
   ]
  },
  {
   "cell_type": "code",
   "execution_count": null,
   "metadata": {},
   "outputs": [],
   "source": [
    "def fill_table(data):\n",
    "    for fig in data:\n",
    "        fig.pepperargs['default']['enumconc'] = 'M' # This effects the output file, but not the rate we see in Table1 (which is always in 'M')\n",
    "        # Show default enumeration parameters:\n",
    "        display(fig.pepperargs['default'])\n",
    "        fig.eval() # use default parameters\n",
    "              \n",
    "        for df in fig.get_dataframes():\n",
    "            df['Semantics'] = sema(df['Semantics'], fig) # rewrite semantics to human readable\n",
    "            df.to_latex(fig.fname + '.tex', index = False, float_format = '{:.3f}'.format)\n",
    "            df['Name'] = fig.name # Append name field for plotting. \n",
    "            display(df)\n",
    "            yield df"
   ]
  },
  {
   "cell_type": "markdown",
   "metadata": {},
   "source": [
    "### Zhang and Winfree 2009"
   ]
  },
  {
   "cell_type": "code",
   "execution_count": null,
   "metadata": {},
   "outputs": [],
   "source": [
    "for x in fill_table(z09r):\n",
    "    Table1 = Table1.append(x)"
   ]
  },
  {
   "cell_type": "code",
   "execution_count": null,
   "metadata": {},
   "outputs": [],
   "source": [
    "%%timeit\n",
    "tmp = zhangdata()\n",
    "for fig in tmp:\n",
    "    fig.eval(verbose = 1)"
   ]
  },
  {
   "cell_type": "markdown",
   "metadata": {},
   "source": [
    "### Dabby 2013"
   ]
  },
  {
   "cell_type": "code",
   "execution_count": null,
   "metadata": {},
   "outputs": [],
   "source": [
    "for x in fill_table(d13r):\n",
    "    Table1 = Table1.append(x)"
   ]
  },
  {
   "cell_type": "code",
   "execution_count": null,
   "metadata": {},
   "outputs": [],
   "source": [
    "%%timeit\n",
    "tmp = dabbydata()\n",
    "for fig in tmp:\n",
    "    fig.eval(verbose = 1)"
   ]
  },
  {
   "cell_type": "markdown",
   "metadata": {},
   "source": [
    "## Plotting (a), (b), (c)"
   ]
  },
  {
   "cell_type": "code",
   "execution_count": null,
   "metadata": {},
   "outputs": [],
   "source": [
    "# Data adjustments:\n",
    "tmpfig = Table1.copy()\n",
    "tmpfig['Rate (experiment)'] = log10(tmpfig['Rate (experiment)'])\n",
    "tmpfig['Rate (calculated)'] = log10(tmpfig['Rate (calculated)'])\n",
    "#display(tmpfig)\n",
    "\n",
    "# Figure layout:\n",
    "g = sns.lmplot(x=\"Rate (experiment)\", y=\"Rate (calculated)\", col=\"Name\", hue='Name', data=tmpfig, sharex = False, sharey = False,\n",
    "           col_wrap=2, ci=None, truncate=False, palette=\"muted\", height = 3.6, scatter_kws={\"s\": 20, \"alpha\": 1})\n",
    "\n",
    "(mi, ma)=(-2, 8)\n",
    "plt.xlim(-2.5, 8.5)\n",
    "plt.ylim(-2.5, 8.5)\n",
    "\n",
    "for ax in g.axes:\n",
    "    ax.xaxis.set_major_formatter(plt.FuncFormatter(lambda x,y: \"$10^{{ {:.0f} }}$\".format(x)))\n",
    "    ax.yaxis.set_major_formatter(plt.FuncFormatter(lambda x,y: \"$10^{{ {:.0f} }}$\".format(x)))\n",
    "\n",
    "    ax.plot([mi, ma], [mi, ma], linewidth=3, color='white', zorder=0)\n",
    "    ax.set(xlabel='Experimental rate constant [/M/s]')\n",
    "    ax.set(ylabel='Peppercorn rate constant [/M/s]')\n",
    "    \n",
    "g.set_titles(row_template=\"{row_name}\", col_template=\"{col_name}\")\n",
    "\n",
    "plt.savefig('proximal_rates.pdf')\n",
    "plt.savefig('proximal_rates.svg')"
   ]
  },
  {
   "cell_type": "markdown",
   "metadata": {},
   "source": [
    "# Genot et al. 2011"
   ]
  },
  {
   "cell_type": "code",
   "execution_count": null,
   "metadata": {},
   "outputs": [],
   "source": [
    "from genot2011 import data as genot2011_data\n",
    "g11 = genot2011_data()"
   ]
  },
  {
   "cell_type": "code",
   "execution_count": null,
   "metadata": {},
   "outputs": [],
   "source": [
    "Table2 = pd.DataFrame()\n",
    "for fig in g11:\n",
    "    display(fig.pepperargs['default'])\n",
    "    fig.eval(verbose = 0)\n",
    "    for df in fig.get_dataframes():\n",
    "        df['Semantics'] = sema(df['Semantics'], fig) # rewrite semantics to human readable\n",
    "        df['Name']=fig.name\n",
    "        Table2 = Table2.append(df)\n",
    "\n",
    "# Let's combine the full analysis into one Table\n",
    "display(Table2)\n",
    "Table2.to_latex('Genot2011data.tex', index=False, float_format='{:.3g}'.format)"
   ]
  },
  {
   "cell_type": "code",
   "execution_count": null,
   "metadata": {},
   "outputs": [],
   "source": [
    "%%timeit\n",
    "g11 = genot2011_data()\n",
    "for fig in g11:\n",
    "    fig.eval(verbose = 0, enumprofile = True) # do not simulate or things like that"
   ]
  },
  {
   "cell_type": "code",
   "execution_count": null,
   "metadata": {},
   "outputs": [],
   "source": [
    "tmpfig = Table2.copy()\n",
    "tmpfig['Time (experiment)'] = log10(tmpfig['Time (experiment)'])\n",
    "tmpfig['Time (simulation)'] = log10(tmpfig['Time (simulation)'])\n",
    "#display(tmpfig)\n",
    "\n",
    "g = sns.lmplot(x = \"Time (experiment)\", \n",
    "               y = \"Time (simulation)\", \n",
    "               hue = 'Name', \n",
    "               height = 3.6, #col=\"Semantics\", \n",
    "               data = tmpfig, \n",
    "               fit_reg = False, \n",
    "               markers = ['o', 'x', 'x', 'v', 'v', 'o'], \n",
    "               legend = False)\n",
    "\n",
    "g.fig.set_size_inches(4.3,3.4)\n",
    "\n",
    "# Adjust plot\n",
    "(mi, ma)=(0, 5)\n",
    "plt.ylim(-.5, 8.)\n",
    "\n",
    "plt.gca().xaxis.set_major_formatter(plt.FuncFormatter(lambda x,y: \"$10^{{ {:.0f} }}$\".format(x)))\n",
    "plt.gca().yaxis.set_major_formatter(plt.FuncFormatter(lambda x,y: \"$10^{{ {:.0f} }}$\".format(x)))\n",
    "\n",
    "for ax in plt.gcf().get_axes():\n",
    "    ax.plot([mi, ma], [mi, ma], linewidth=3, color='white',zorder=0)\n",
    "\n",
    "g.set(title = 'Genot et al. (2011)\\nremote-toehold strand displacement')  \n",
    "g.set(xlabel = 'Experimental completion time [s]')  \n",
    "g.set(ylabel = 'Peppercorn completion time [s]')\n",
    "    \n",
    "legend = plt.legend(ncol = 1, loc = 'upper left', fontsize = 7.8)\n",
    "frame = legend.get_frame()\n",
    "frame.set_facecolor('white')\n",
    "\n",
    "plt.savefig('remote_rates.pdf', bbox_inches='tight')\n",
    "plt.savefig('remote_rates.svg', bbox_inches='tight')"
   ]
  },
  {
   "cell_type": "code",
   "execution_count": null,
   "metadata": {},
   "outputs": [],
   "source": []
  }
 ],
 "metadata": {
  "kernelspec": {
   "display_name": "Python [conda env:py37]",
   "language": "python",
   "name": "conda-env-py37-py"
  },
  "language_info": {
   "codemirror_mode": {
    "name": "ipython",
    "version": 3
   },
   "file_extension": ".py",
   "mimetype": "text/x-python",
   "name": "python",
   "nbconvert_exporter": "python",
   "pygments_lexer": "ipython3",
   "version": "3.7.3"
  }
 },
 "nbformat": 4,
 "nbformat_minor": 2
}
