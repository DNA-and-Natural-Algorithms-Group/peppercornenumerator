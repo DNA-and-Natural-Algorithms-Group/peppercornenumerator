{
 "cells": [
  {
   "cell_type": "markdown",
   "metadata": {},
   "source": [
    "# Condensed rates vs. experiments\n",
    "## Zhang & Winfree 2009, Dabby 2013, Genot et al. 2011"
   ]
  },
  {
   "cell_type": "markdown",
   "metadata": {},
   "source": [
    "# Initialization - Global"
   ]
  },
  {
   "cell_type": "code",
   "execution_count": 1,
   "metadata": {},
   "outputs": [],
   "source": [
    "import pandas as pd\n",
    "import seaborn as sns\n",
    "import matplotlib.pyplot as plt\n",
    "from numpy import log10, sqrt\n",
    "\n",
    "sns.set(style=\"darkgrid\")\n",
    "\n",
    "# Helper function to calculate Euclidean distance\n",
    "def euclid(x, y, df, take_log=False):\n",
    "    if take_log:\n",
    "        return sqrt(sum((log10(df[x])-log10(df[y]))**2))\n",
    "    else:\n",
    "        return sqrt(sum((df[x]-df[y])**2))\n",
    "    \n",
    "def sema(vect, fig):\n",
    "    #semantics=', '.join('{}={}'.format(x,y) for (x,y) in fig.pepperargs['default'].items() if x != 'conc')\n",
    "    nv = []\n",
    "    for line in vect:\n",
    "        v = []\n",
    "        for (x,y) in fig.pepperargs[line].items():\n",
    "            if x == 'conc': continue\n",
    "            if x == 'max_complex_size': continue\n",
    "            if x == 'max_complex_count': continue\n",
    "            if x == 'max_reaction_count': continue\n",
    "            if x == 'condensed': \n",
    "                z = x if y is True else 'detailed'\n",
    "            else:\n",
    "                z = '{}={}'.format(x,y)\n",
    "            v.append(z)\n",
    "        nv.append(', '.join(v))\n",
    "    return nv\n",
    " "
   ]
  },
  {
   "cell_type": "markdown",
   "metadata": {},
   "source": [
    "## Initialization - Figure 1"
   ]
  },
  {
   "cell_type": "code",
   "execution_count": 2,
   "metadata": {},
   "outputs": [],
   "source": [
    "from zhang2009_rates import data; z09r = data()\n",
    "from dabby2013_rates import data; d13r = data()\n",
    "\n",
    "Table1 = pd.DataFrame()"
   ]
  },
  {
   "cell_type": "markdown",
   "metadata": {},
   "source": [
    "### Zhang and Winfree 2009"
   ]
  },
  {
   "cell_type": "markdown",
   "metadata": {},
   "source": [
    "![title](../papers/raw_figures/zhang2009r_F1.svg)"
   ]
  },
  {
   "cell_type": "code",
   "execution_count": 3,
   "metadata": {},
   "outputs": [
    {
     "name": "stdout",
     "output_type": "stream",
     "text": [
      "Zhang2009-3way -- Fitness: 0.669532\n",
      "Zhang2009-3wayX -- Fitness: 2.9244\n"
     ]
    }
   ],
   "source": [
    "for fig in z09r:\n",
    "    fig.eval()\n",
    "    #display(fig.pepperargs['default'])\n",
    "    semantics=', '.join('{}={}'.format(x,y) for (x,y) in fig.pepperargs['default'].items() if x != 'conc')\n",
    "    for df in fig.get_dataframes():\n",
    "        df['Semantics']=semantics\n",
    "        df.to_latex(fig.fname+'.tex', index=False, float_format='{:.3f}'.format)\n",
    "        df['Name']=fig.name \n",
    "        #display(df)\n",
    "        dist = euclid('Rate (experiment)', 'Rate (calculated)', df, take_log=True)\n",
    "        print('{:s} -- Fitness: {:g}'.format(fig.fname, dist))\n",
    "        Table1 = Table1.append(df)\n"
   ]
  },
  {
   "cell_type": "markdown",
   "metadata": {},
   "source": [
    "### Dabby 2013"
   ]
  },
  {
   "cell_type": "markdown",
   "metadata": {},
   "source": [
    "![title](../papers/raw_figures/dabby2013.svg)"
   ]
  },
  {
   "cell_type": "code",
   "execution_count": 4,
   "metadata": {},
   "outputs": [
    {
     "data": {
      "text/html": [
       "<div>\n",
       "<style scoped>\n",
       "    .dataframe tbody tr th:only-of-type {\n",
       "        vertical-align: middle;\n",
       "    }\n",
       "\n",
       "    .dataframe tbody tr th {\n",
       "        vertical-align: top;\n",
       "    }\n",
       "\n",
       "    .dataframe thead th {\n",
       "        text-align: right;\n",
       "    }\n",
       "</style>\n",
       "<table border=\"1\" class=\"dataframe\">\n",
       "  <thead>\n",
       "    <tr style=\"text-align: right;\">\n",
       "      <th></th>\n",
       "      <th>Input Filename</th>\n",
       "      <th>(n, m)</th>\n",
       "      <th>Reaction</th>\n",
       "      <th>Semantics</th>\n",
       "      <th>Rate (calculated)</th>\n",
       "      <th>Rate (experiment)</th>\n",
       "      <th>Name</th>\n",
       "    </tr>\n",
       "  </thead>\n",
       "  <tbody>\n",
       "    <tr>\n",
       "      <th>0</th>\n",
       "      <td>tmp/Dabby2013-4way-00</td>\n",
       "      <td>(0, 2)</td>\n",
       "      <td>clx + rep -&gt; pr1 + pr2</td>\n",
       "      <td>condensed=True</td>\n",
       "      <td>5.597803e-03</td>\n",
       "      <td>0.047</td>\n",
       "      <td>Dabby (2013)\\n4-way strand displacement</td>\n",
       "    </tr>\n",
       "    <tr>\n",
       "      <th>1</th>\n",
       "      <td>tmp/Dabby2013-4way-01</td>\n",
       "      <td>(2, 2)</td>\n",
       "      <td>clx + rep -&gt; pr1 + pr2</td>\n",
       "      <td>condensed=True</td>\n",
       "      <td>1.426023e-02</td>\n",
       "      <td>0.100</td>\n",
       "      <td>Dabby (2013)\\n4-way strand displacement</td>\n",
       "    </tr>\n",
       "    <tr>\n",
       "      <th>2</th>\n",
       "      <td>tmp/Dabby2013-4way-02</td>\n",
       "      <td>(2, 0)</td>\n",
       "      <td>clx + rep -&gt; pr1 + pr2</td>\n",
       "      <td>condensed=True</td>\n",
       "      <td>5.597803e-03</td>\n",
       "      <td>0.033</td>\n",
       "      <td>Dabby (2013)\\n4-way strand displacement</td>\n",
       "    </tr>\n",
       "    <tr>\n",
       "      <th>3</th>\n",
       "      <td>tmp/Dabby2013-4way-03</td>\n",
       "      <td>(4, 2)</td>\n",
       "      <td>clx + rep -&gt; pr1 + pr2</td>\n",
       "      <td>condensed=True</td>\n",
       "      <td>2.675033e+00</td>\n",
       "      <td>0.930</td>\n",
       "      <td>Dabby (2013)\\n4-way strand displacement</td>\n",
       "    </tr>\n",
       "    <tr>\n",
       "      <th>4</th>\n",
       "      <td>tmp/Dabby2013-4way-04</td>\n",
       "      <td>(4, 0)</td>\n",
       "      <td>clx + rep -&gt; pr1 + pr2</td>\n",
       "      <td>condensed=True</td>\n",
       "      <td>1.739764e+00</td>\n",
       "      <td>0.039</td>\n",
       "      <td>Dabby (2013)\\n4-way strand displacement</td>\n",
       "    </tr>\n",
       "    <tr>\n",
       "      <th>5</th>\n",
       "      <td>tmp/Dabby2013-4way-05</td>\n",
       "      <td>(0, 4)</td>\n",
       "      <td>clx + rep -&gt; pr1 + pr2</td>\n",
       "      <td>condensed=True</td>\n",
       "      <td>1.739764e+00</td>\n",
       "      <td>0.970</td>\n",
       "      <td>Dabby (2013)\\n4-way strand displacement</td>\n",
       "    </tr>\n",
       "    <tr>\n",
       "      <th>6</th>\n",
       "      <td>tmp/Dabby2013-4way-06</td>\n",
       "      <td>(2, 4)</td>\n",
       "      <td>clx + rep -&gt; pr1 + pr2</td>\n",
       "      <td>condensed=True</td>\n",
       "      <td>2.675033e+00</td>\n",
       "      <td>56.000</td>\n",
       "      <td>Dabby (2013)\\n4-way strand displacement</td>\n",
       "    </tr>\n",
       "    <tr>\n",
       "      <th>7</th>\n",
       "      <td>tmp/Dabby2013-4way-07</td>\n",
       "      <td>(6, 2)</td>\n",
       "      <td>clx + rep -&gt; pr1 + pr2</td>\n",
       "      <td>condensed=True</td>\n",
       "      <td>8.280459e+02</td>\n",
       "      <td>490.000</td>\n",
       "      <td>Dabby (2013)\\n4-way strand displacement</td>\n",
       "    </tr>\n",
       "    <tr>\n",
       "      <th>8</th>\n",
       "      <td>tmp/Dabby2013-4way-08</td>\n",
       "      <td>(0, 6)</td>\n",
       "      <td>clx + rep -&gt; pr1 + pr2</td>\n",
       "      <td>condensed=True</td>\n",
       "      <td>5.405478e+02</td>\n",
       "      <td>58.000</td>\n",
       "      <td>Dabby (2013)\\n4-way strand displacement</td>\n",
       "    </tr>\n",
       "    <tr>\n",
       "      <th>9</th>\n",
       "      <td>tmp/Dabby2013-4way-09</td>\n",
       "      <td>(4, 4)</td>\n",
       "      <td>clx + rep -&gt; pr1 + pr2</td>\n",
       "      <td>condensed=True</td>\n",
       "      <td>1.514773e+02</td>\n",
       "      <td>770.000</td>\n",
       "      <td>Dabby (2013)\\n4-way strand displacement</td>\n",
       "    </tr>\n",
       "    <tr>\n",
       "      <th>10</th>\n",
       "      <td>tmp/Dabby2013-4way-10</td>\n",
       "      <td>(6, 0)</td>\n",
       "      <td>clx + rep -&gt; pr1 + pr2</td>\n",
       "      <td>condensed=True</td>\n",
       "      <td>5.405478e+02</td>\n",
       "      <td>5.000</td>\n",
       "      <td>Dabby (2013)\\n4-way strand displacement</td>\n",
       "    </tr>\n",
       "    <tr>\n",
       "      <th>11</th>\n",
       "      <td>tmp/Dabby2013-4way-11</td>\n",
       "      <td>(2, 6)</td>\n",
       "      <td>clx + rep -&gt; pr1 + pr2</td>\n",
       "      <td>condensed=True</td>\n",
       "      <td>8.280459e+02</td>\n",
       "      <td>9400.000</td>\n",
       "      <td>Dabby (2013)\\n4-way strand displacement</td>\n",
       "    </tr>\n",
       "    <tr>\n",
       "      <th>12</th>\n",
       "      <td>tmp/Dabby2013-4way-12</td>\n",
       "      <td>(4, 6)</td>\n",
       "      <td>clx + rep -&gt; pr1 + pr2</td>\n",
       "      <td>condensed=True</td>\n",
       "      <td>3.952347e+04</td>\n",
       "      <td>70000.000</td>\n",
       "      <td>Dabby (2013)\\n4-way strand displacement</td>\n",
       "    </tr>\n",
       "    <tr>\n",
       "      <th>13</th>\n",
       "      <td>tmp/Dabby2013-4way-13</td>\n",
       "      <td>(6, 4)</td>\n",
       "      <td>clx + rep -&gt; pr1 + pr2</td>\n",
       "      <td>condensed=True</td>\n",
       "      <td>3.952347e+04</td>\n",
       "      <td>280000.000</td>\n",
       "      <td>Dabby (2013)\\n4-way strand displacement</td>\n",
       "    </tr>\n",
       "    <tr>\n",
       "      <th>14</th>\n",
       "      <td>tmp/Dabby2013-4way-14</td>\n",
       "      <td>(6, 6)</td>\n",
       "      <td>clx + rep -&gt; pr1 + pr2</td>\n",
       "      <td>condensed=True</td>\n",
       "      <td>2.609292e+06</td>\n",
       "      <td>690000.000</td>\n",
       "      <td>Dabby (2013)\\n4-way strand displacement</td>\n",
       "    </tr>\n",
       "  </tbody>\n",
       "</table>\n",
       "</div>"
      ],
      "text/plain": [
       "           Input Filename  (n, m)                Reaction       Semantics  \\\n",
       "0   tmp/Dabby2013-4way-00  (0, 2)  clx + rep -> pr1 + pr2  condensed=True   \n",
       "1   tmp/Dabby2013-4way-01  (2, 2)  clx + rep -> pr1 + pr2  condensed=True   \n",
       "2   tmp/Dabby2013-4way-02  (2, 0)  clx + rep -> pr1 + pr2  condensed=True   \n",
       "3   tmp/Dabby2013-4way-03  (4, 2)  clx + rep -> pr1 + pr2  condensed=True   \n",
       "4   tmp/Dabby2013-4way-04  (4, 0)  clx + rep -> pr1 + pr2  condensed=True   \n",
       "5   tmp/Dabby2013-4way-05  (0, 4)  clx + rep -> pr1 + pr2  condensed=True   \n",
       "6   tmp/Dabby2013-4way-06  (2, 4)  clx + rep -> pr1 + pr2  condensed=True   \n",
       "7   tmp/Dabby2013-4way-07  (6, 2)  clx + rep -> pr1 + pr2  condensed=True   \n",
       "8   tmp/Dabby2013-4way-08  (0, 6)  clx + rep -> pr1 + pr2  condensed=True   \n",
       "9   tmp/Dabby2013-4way-09  (4, 4)  clx + rep -> pr1 + pr2  condensed=True   \n",
       "10  tmp/Dabby2013-4way-10  (6, 0)  clx + rep -> pr1 + pr2  condensed=True   \n",
       "11  tmp/Dabby2013-4way-11  (2, 6)  clx + rep -> pr1 + pr2  condensed=True   \n",
       "12  tmp/Dabby2013-4way-12  (4, 6)  clx + rep -> pr1 + pr2  condensed=True   \n",
       "13  tmp/Dabby2013-4way-13  (6, 4)  clx + rep -> pr1 + pr2  condensed=True   \n",
       "14  tmp/Dabby2013-4way-14  (6, 6)  clx + rep -> pr1 + pr2  condensed=True   \n",
       "\n",
       "    Rate (calculated)  Rate (experiment)  \\\n",
       "0        5.597803e-03              0.047   \n",
       "1        1.426023e-02              0.100   \n",
       "2        5.597803e-03              0.033   \n",
       "3        2.675033e+00              0.930   \n",
       "4        1.739764e+00              0.039   \n",
       "5        1.739764e+00              0.970   \n",
       "6        2.675033e+00             56.000   \n",
       "7        8.280459e+02            490.000   \n",
       "8        5.405478e+02             58.000   \n",
       "9        1.514773e+02            770.000   \n",
       "10       5.405478e+02              5.000   \n",
       "11       8.280459e+02           9400.000   \n",
       "12       3.952347e+04          70000.000   \n",
       "13       3.952347e+04         280000.000   \n",
       "14       2.609292e+06         690000.000   \n",
       "\n",
       "                                       Name  \n",
       "0   Dabby (2013)\\n4-way strand displacement  \n",
       "1   Dabby (2013)\\n4-way strand displacement  \n",
       "2   Dabby (2013)\\n4-way strand displacement  \n",
       "3   Dabby (2013)\\n4-way strand displacement  \n",
       "4   Dabby (2013)\\n4-way strand displacement  \n",
       "5   Dabby (2013)\\n4-way strand displacement  \n",
       "6   Dabby (2013)\\n4-way strand displacement  \n",
       "7   Dabby (2013)\\n4-way strand displacement  \n",
       "8   Dabby (2013)\\n4-way strand displacement  \n",
       "9   Dabby (2013)\\n4-way strand displacement  \n",
       "10  Dabby (2013)\\n4-way strand displacement  \n",
       "11  Dabby (2013)\\n4-way strand displacement  \n",
       "12  Dabby (2013)\\n4-way strand displacement  \n",
       "13  Dabby (2013)\\n4-way strand displacement  \n",
       "14  Dabby (2013)\\n4-way strand displacement  "
      ]
     },
     "metadata": {},
     "output_type": "display_data"
    },
    {
     "name": "stdout",
     "output_type": "stream",
     "text": [
      "Dabby2013-4way.tex -- Fitness: 3.8421\n"
     ]
    }
   ],
   "source": [
    "for fig in d13r:\n",
    "    fig.eval()\n",
    "    #display(fig.pepperargs['default'])\n",
    "    semantics=', '.join('{}={}'.format(x,y) for (x,y) in fig.pepperargs['default'].items() if x != 'conc')\n",
    "    for df in fig.get_dataframes():\n",
    "        df['Semantics']=semantics\n",
    "        df.to_latex(fig.fname+'.tex', float_format='{:.3f}'.format, index=False)\n",
    "        df['Name']=fig.name \n",
    "        display(df)\n",
    "        dist = euclid('Rate (experiment)', 'Rate (calculated)', df, take_log=True)\n",
    "        print('{:s} -- Fitness: {:g}'.format(fig.fname+'.tex', dist))\n",
    "        Table1 = Table1.append(df)        "
   ]
  },
  {
   "cell_type": "code",
   "execution_count": 5,
   "metadata": {},
   "outputs": [
    {
     "name": "stdout",
     "output_type": "stream",
     "text": [
      "AxesSubplot(0.107224,0.566512;0.397466x0.348688) <class 'matplotlib.axes._subplots.AxesSubplot'>\n",
      "AxesSubplot(0.569526,0.566512;0.397466x0.348688) <class 'matplotlib.axes._subplots.AxesSubplot'>\n",
      "AxesSubplot(0.107224,0.095409;0.397466x0.348688) <class 'matplotlib.axes._subplots.AxesSubplot'>\n"
     ]
    },
    {
     "data": {
      "image/png": "[encoded data removed]",
      "text/plain": [
       "<Figure size 518.4x518.4 with 3 Axes>"
      ]
     },
     "metadata": {},
     "output_type": "display_data"
    }
   ],
   "source": [
    "# Data adjustments:\n",
    "tmpfig = Table1.copy()\n",
    "tmpfig['Rate (experiment)'] = log10(tmpfig['Rate (experiment)'])\n",
    "tmpfig['Rate (calculated)'] = log10(tmpfig['Rate (calculated)'])\n",
    "#display(tmpfig)\n",
    "\n",
    "#grid = sns.lmplot('x', 'y', data, size=7, truncate=True, scatter_kws={\"s\": 100})\n",
    "#grid.set(xscale=\"log\", yscale=\"log\")\n",
    "\n",
    "# Figure size adjustments:\n",
    "#plt.rcParams['figure.dpi'] = 120\n",
    "\n",
    "\n",
    "# Figure layout:\n",
    "#g = sns.relplot(x=\"Rate (experiment)\", y=\"Rate (calculated)\", hue='Name', data=tmpfig)\n",
    "#g = sns.jointplot(x=\"Rate (experiment)\", y=\"Rate (calculated)\", data=tmpfig, kind=\"reg\", color=\"m\", height=5)\n",
    "\n",
    "g = sns.lmplot(x=\"Rate (experiment)\", y=\"Rate (calculated)\", col=\"Name\", hue='Name', data=tmpfig, sharex = False, sharey = False,\n",
    "           col_wrap=2, ci=None, truncate=False, palette=\"muted\", height = 3.6, scatter_kws={\"s\": 20, \"alpha\": 1})\n",
    "\n",
    "#g.set(xscale=\"log\",yscale=\"log\")\n",
    "#plt.xscale('log')\n",
    "#plt.yscale('log')\n",
    "(mi, ma)=(-2, 8)\n",
    "plt.xlim(-2.5, 8.5)\n",
    "plt.ylim(-2.5, 8.5)\n",
    "\n",
    "for ax in g.axes:\n",
    "    print(ax,type(ax))\n",
    "    ax.xaxis.set_major_formatter(plt.FuncFormatter(lambda x,y: \"$10^{{ {:.0f} }}$\".format(x)))\n",
    "    ax.yaxis.set_major_formatter(plt.FuncFormatter(lambda x,y: \"$10^{{ {:.0f} }}$\".format(x)))\n",
    "\n",
    "    ax.plot([mi, ma], [mi, ma], linewidth=3, color='white', zorder=0)\n",
    "    ax.set(xlabel='Experimental rate constant [/M/s]')\n",
    "    ax.set(ylabel='Peppercorn rate constant [/M/s]')\n",
    "\n",
    "    \n",
    "#g.axes[0].set(ylabel='')\n",
    "    \n",
    "g.set_titles(row_template=\"{row_name}\", col_template=\"{col_name}\")\n",
    "\n",
    "plt.savefig('proximal_rates.pdf')#, bbox_inches='tight')\n",
    "plt.savefig('proximal_rates.svg')#, bbox_inches='tight')\n"
   ]
  },
  {
   "cell_type": "markdown",
   "metadata": {},
   "source": [
    "# Genot et al. 2011\n",
    "\n",
    "Note: Results for Figure 4D vary!!"
   ]
  },
  {
   "cell_type": "markdown",
   "metadata": {},
   "source": [
    "![title](../papers/raw_figures/genot2011r_F3.svg)"
   ]
  },
  {
   "cell_type": "markdown",
   "metadata": {},
   "source": [
    "![title](../papers/raw_figures/genot2011r_F4.svg)"
   ]
  },
  {
   "cell_type": "code",
   "execution_count": 6,
   "metadata": {},
   "outputs": [],
   "source": [
    "from genot2011 import data; g11 = data()\n",
    "Table2 = pd.DataFrame()"
   ]
  },
  {
   "cell_type": "code",
   "execution_count": 7,
   "metadata": {},
   "outputs": [
    {
     "name": "stdout",
     "output_type": "stream",
     "text": [
      "Fig. 3: |a|=14, |b|=22, varying: |n|, |m| -- Fitness: 1.15245\n",
      "Fig. 4A: |n|=|m|=0, either |a|=11 or |a|=9 -- Fitness: 0.529667\n",
      "Fig. 4B: |n|=|m|=1, either |a|=11 or |a|=9 -- Fitness: 1.16364\n",
      "Fig. 4C: |n|=|m|=0, |a|=6, varying: [invader]$_0$ -- Fitness: 2.81206\n",
      "Fig. 4D: |n|=|m|=17, |a|=14, varying: [invader]$_0$ -- Fitness: 1.13747\n",
      "Sup. Fig. 4A: |a|=14, |b|=22 varying: |n|,|m| -- Fitness: 2.20854\n"
     ]
    }
   ],
   "source": [
    "for e, fig in enumerate(g11):\n",
    "    fig.pepperargs['detailed-default'] = fig.pepperargs['default'].copy()\n",
    "    fig.pepperargs['detailed-default']['condensed'] = False\n",
    "\n",
    "    fig.pepperargs['ddG'] = fig.pepperargs['default'].copy()\n",
    "    fig.pepperargs['ddG']['ddG_bind'] = 0.4 # 0.5  and 0.6 works well\n",
    "\n",
    "    fig.pepperargs['detailed-ddG'] = fig.pepperargs['ddG'].copy()\n",
    "    fig.pepperargs['detailed-ddG']['condensed'] = False\n",
    "    \n",
    "    fig.eval('default', cmpfig='hack', verbose=0)\n",
    "    #fig.eval('detailed-default', cmpfig='hack', verbose=0)\n",
    "    #fig.eval('ddG', cmpfig='hack', verbose=0)\n",
    "    #fig.eval('detailed-ddG', cmpfig='hack', verbose=0)\n",
    "\n",
    "    #display(fig.pepperargs['default'])\n",
    "    for df in fig.get_dataframes():\n",
    "        df['Semantics']=sema(df['Semantics'], fig)\n",
    "        df['Name']=fig.name\n",
    "        dist = euclid('Time (experiment)', 'Time (simulation)', df, take_log=True)\n",
    "        print('{:s} -- Fitness: {:g}'.format(fig.name,dist))\n",
    "        Table2 = Table2.append(df)"
   ]
  },
  {
   "cell_type": "code",
   "execution_count": 8,
   "metadata": {},
   "outputs": [
    {
     "data": {
      "image/png": "[encoded data removed]",
      "text/plain": [
       "<Figure size 309.6x244.8 with 1 Axes>"
      ]
     },
     "metadata": {},
     "output_type": "display_data"
    }
   ],
   "source": [
    "#display(Table2)\n",
    "Table2.to_latex('Genot2011data.tex', index=False, float_format='{:.3g}'.format)\n",
    "\n",
    "tmpfig = Table2.copy()\n",
    "#tmpfig = tmpfig.loc[tmpfig['pepperargs'].isin(['default', 'detailed-default'])]\n",
    "tmpfig['Time (experiment)'] = log10(tmpfig['Time (experiment)'])\n",
    "tmpfig['Time (simulation)'] = log10(tmpfig['Time (simulation)'])\n",
    "#display(tmpfig)\n",
    "\n",
    "sns.set_palette(\"husl\")\n",
    "#sns.set(rc={'figure.figsize':(8,4)})\n",
    "\n",
    "\n",
    "# Figure size adjustments:\n",
    "#plt.rcParams['figure.dpi'] = 80\n",
    "\n",
    "mycolors = ['blue', \n",
    "            'red', \n",
    "            'green', \n",
    "            'orange', \n",
    "            'maroon', \n",
    "            'springgreen', \n",
    "            'cyan', \n",
    "            'magenta', \n",
    "            'yellow']\n",
    "mycolors += list('kkkkkkkkkkk')\n",
    "mymarker = list('po.*^v+_,phD8|_oooooooo')\n",
    "\n",
    "g = sns.lmplot(x=\"Time (experiment)\", y=\"Time (simulation)\", hue='Name', height = 3.6, #col=\"Semantics\", \n",
    "               data=tmpfig, fit_reg=False, markers=['o', 'x', 'x', 'v', 'v', 'o'], legend=False)\n",
    "#g.fig.set_size_inches(15.3,5.4)\n",
    "g.fig.set_size_inches(4.3,3.4)\n",
    "\n",
    "# Adjust plot\n",
    "#plt.xscale('log')\n",
    "#plt.yscale('log')\n",
    "(mi, ma)=(0, 5)\n",
    "#plt.xlim(-.5, 8.)\n",
    "plt.ylim(-.5, 8.)\n",
    "#plt.plot([mi, ma], [mi, ma], linewidth=1, color='white',zorder=0)\n",
    "\n",
    "plt.gca().xaxis.set_major_formatter(plt.FuncFormatter(lambda x,y: \"$10^{{ {:.0f} }}$\".format(x)))\n",
    "plt.gca().yaxis.set_major_formatter(plt.FuncFormatter(lambda x,y: \"$10^{{ {:.0f} }}$\".format(x)))\n",
    "\n",
    "for ax in plt.gcf().get_axes():\n",
    "    #print(ax)\n",
    "    ax.plot([mi, ma], [mi, ma], linewidth=3, color='white',zorder=0)\n",
    "    #ax.set(xlabel='Experimental diagonal crossing time [$t_{exp} =10^x $ s]')\n",
    "\n",
    "g.set(title='Genot et al. (2011)\\nremote-toehold strand displacement')  \n",
    "g.set(xlabel='Experimental completion time [s]')  \n",
    "g.set(ylabel='Peppercorn completion time [s]')\n",
    "    \n",
    "#g.set_titles(row_template=\"{row_name}\", col_template=\"{col_name}\")\n",
    "legend = plt.legend(ncol=1, loc='upper left', fontsize=7.8);\n",
    "frame = legend.get_frame()\n",
    "frame.set_facecolor('white')\n",
    "#frame.set_edgecolor('red')\n",
    "\n",
    "plt.savefig('remote_rates.pdf', bbox_inches='tight')\n",
    "plt.savefig('remote_rates.svg', bbox_inches='tight')"
   ]
  },
  {
   "cell_type": "code",
   "execution_count": null,
   "metadata": {},
   "outputs": [],
   "source": []
  }
 ],
 "metadata": {
  "kernelspec": {
   "display_name": "Python [conda env:py37]",
   "language": "python",
   "name": "conda-env-py37-py"
  },
  "language_info": {
   "codemirror_mode": {
    "name": "ipython",
    "version": 3
   },
   "file_extension": ".py",
   "mimetype": "text/x-python",
   "name": "python",
   "nbconvert_exporter": "python",
   "pygments_lexer": "ipython3",
   "version": "3.7.3"
  }
 },
 "nbformat": 4,
 "nbformat_minor": 2
}
